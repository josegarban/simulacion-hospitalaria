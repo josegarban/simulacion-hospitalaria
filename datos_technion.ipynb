{
 "cells": [
  {
   "cell_type": "code",
   "execution_count": 1,
   "metadata": {},
   "outputs": [
    {
     "data": {
      "text/html": [
       "<style>.container { width:100% !important; }</style>"
      ],
      "text/plain": [
       "<IPython.core.display.HTML object>"
      ]
     },
     "metadata": {},
     "output_type": "display_data"
    }
   ],
   "source": [
    "from IPython.core.display import display, HTML\n",
    "display(HTML(\"<style>.container { width:100% !important; }</style>\"))\n",
    "\n",
    "import main, clean"
   ]
  },
  {
   "cell_type": "code",
   "execution_count": 2,
   "metadata": {},
   "outputs": [],
   "source": [
    "import locale\n",
    "locale.setlocale(locale.LC_ALL, '')\n",
    "format_spec = '{:n}'\n",
    "format_dict = { 'sum': format_spec, 'min': format_spec, 'max': format_spec, \n",
    "                'mean': format_spec, 'std': format_spec, \n",
    "                'duración': format_spec, 'divisiones': format_spec, 'conteo': format_spec, 'intervalo': format_spec}"
   ]
  },
  {
   "cell_type": "markdown",
   "metadata": {},
   "source": [
    "### Leer y limpiar datos originales"
   ]
  },
  {
   "cell_type": "code",
   "execution_count": 3,
   "metadata": {},
   "outputs": [],
   "source": [
    "# Leer datos originales y pasarlos a un dataframe\n",
    "d = clean.convert('xrays_visits.csv', ',', False)\n",
    "# Traducir nombres de las columnas\n",
    "d_t = clean.column_translator(d[0], 'es', clean.COLUMN_NAMES, False)\n",
    "# Convertir campos de hora a minutos\n",
    "d_t[clean.COLUMN_NAMES['duration']['es']] = d_t[clean.COLUMN_NAMES['duration']['es']].div(60)\n",
    "# Añadir columnas con fecha procesada\n",
    "df1 = clean.getdatetimes(d_t, clean.COLUMN_NAMES['entry_date']['es'], clean.COLUMN_NAMES['exit_date']['es'], [999], False)"
   ]
  },
  {
   "cell_type": "markdown",
   "metadata": {},
   "source": [
    "### Procesar y analizar la serie de datos con las duraciones de las estadías de los pacientes"
   ]
  },
  {
   "cell_type": "code",
   "execution_count": 4,
   "metadata": {},
   "outputs": [
    {
     "data": {
      "image/png": "[encoded data removed]",
      "text/plain": [
       "<Figure size 432x288 with 1 Axes>"
      ]
     },
     "metadata": {
      "needs_background": "light"
     },
     "output_type": "display_data"
    }
   ],
   "source": [
    "# Obtener serie de datos con las duraciones de las estadías de los pacientes, trazar histograma\n",
    "durations_tup = main.timedeltas_hist_bylength(df1[1], df1[0], 'es', main.MESSAGES, clean.COLUMN_NAMES, False)\n",
    "durations, durations_df = durations_tup[0], durations_tup[1]"
   ]
  },
  {
   "cell_type": "code",
   "execution_count": 5,
   "metadata": {
    "scrolled": true
   },
   "outputs": [
    {
     "data": {
      "text/html": [
       "<style  type=\"text/css\" >\n",
       "</style><table id=\"T_a9a82363_f140_11ea_91a9_c0e4341b61de\" ><thead>    <tr>        <th class=\"blank level0\" ></th>        <th class=\"col_heading level0 col0\" >divisiones</th>        <th class=\"col_heading level0 col1\" >conteo</th>    </tr></thead><tbody>\n",
       "                <tr>\n",
       "                        <th id=\"T_a9a82363_f140_11ea_91a9_c0e4341b61delevel0_row0\" class=\"row_heading level0 row0\" >0</th>\n",
       "                        <td id=\"T_a9a82363_f140_11ea_91a9_c0e4341b61derow0_col0\" class=\"data row0 col0\" >69,1</td>\n",
       "                        <td id=\"T_a9a82363_f140_11ea_91a9_c0e4341b61derow0_col1\" class=\"data row0 col1\" >1.919</td>\n",
       "            </tr>\n",
       "            <tr>\n",
       "                        <th id=\"T_a9a82363_f140_11ea_91a9_c0e4341b61delevel0_row1\" class=\"row_heading level0 row1\" >1</th>\n",
       "                        <td id=\"T_a9a82363_f140_11ea_91a9_c0e4341b61derow1_col0\" class=\"data row1 col0\" >138,2</td>\n",
       "                        <td id=\"T_a9a82363_f140_11ea_91a9_c0e4341b61derow1_col1\" class=\"data row1 col1\" >271</td>\n",
       "            </tr>\n",
       "            <tr>\n",
       "                        <th id=\"T_a9a82363_f140_11ea_91a9_c0e4341b61delevel0_row2\" class=\"row_heading level0 row2\" >2</th>\n",
       "                        <td id=\"T_a9a82363_f140_11ea_91a9_c0e4341b61derow2_col0\" class=\"data row2 col0\" >207,3</td>\n",
       "                        <td id=\"T_a9a82363_f140_11ea_91a9_c0e4341b61derow2_col1\" class=\"data row2 col1\" >62</td>\n",
       "            </tr>\n",
       "            <tr>\n",
       "                        <th id=\"T_a9a82363_f140_11ea_91a9_c0e4341b61delevel0_row3\" class=\"row_heading level0 row3\" >3</th>\n",
       "                        <td id=\"T_a9a82363_f140_11ea_91a9_c0e4341b61derow3_col0\" class=\"data row3 col0\" >276,4</td>\n",
       "                        <td id=\"T_a9a82363_f140_11ea_91a9_c0e4341b61derow3_col1\" class=\"data row3 col1\" >21</td>\n",
       "            </tr>\n",
       "            <tr>\n",
       "                        <th id=\"T_a9a82363_f140_11ea_91a9_c0e4341b61delevel0_row4\" class=\"row_heading level0 row4\" >4</th>\n",
       "                        <td id=\"T_a9a82363_f140_11ea_91a9_c0e4341b61derow4_col0\" class=\"data row4 col0\" >345,5</td>\n",
       "                        <td id=\"T_a9a82363_f140_11ea_91a9_c0e4341b61derow4_col1\" class=\"data row4 col1\" >7</td>\n",
       "            </tr>\n",
       "            <tr>\n",
       "                        <th id=\"T_a9a82363_f140_11ea_91a9_c0e4341b61delevel0_row5\" class=\"row_heading level0 row5\" >5</th>\n",
       "                        <td id=\"T_a9a82363_f140_11ea_91a9_c0e4341b61derow5_col0\" class=\"data row5 col0\" >414,6</td>\n",
       "                        <td id=\"T_a9a82363_f140_11ea_91a9_c0e4341b61derow5_col1\" class=\"data row5 col1\" >1</td>\n",
       "            </tr>\n",
       "            <tr>\n",
       "                        <th id=\"T_a9a82363_f140_11ea_91a9_c0e4341b61delevel0_row6\" class=\"row_heading level0 row6\" >6</th>\n",
       "                        <td id=\"T_a9a82363_f140_11ea_91a9_c0e4341b61derow6_col0\" class=\"data row6 col0\" >483,7</td>\n",
       "                        <td id=\"T_a9a82363_f140_11ea_91a9_c0e4341b61derow6_col1\" class=\"data row6 col1\" >1</td>\n",
       "            </tr>\n",
       "            <tr>\n",
       "                        <th id=\"T_a9a82363_f140_11ea_91a9_c0e4341b61delevel0_row7\" class=\"row_heading level0 row7\" >7</th>\n",
       "                        <td id=\"T_a9a82363_f140_11ea_91a9_c0e4341b61derow7_col0\" class=\"data row7 col0\" >552,8</td>\n",
       "                        <td id=\"T_a9a82363_f140_11ea_91a9_c0e4341b61derow7_col1\" class=\"data row7 col1\" >1</td>\n",
       "            </tr>\n",
       "            <tr>\n",
       "                        <th id=\"T_a9a82363_f140_11ea_91a9_c0e4341b61delevel0_row8\" class=\"row_heading level0 row8\" >8</th>\n",
       "                        <td id=\"T_a9a82363_f140_11ea_91a9_c0e4341b61derow8_col0\" class=\"data row8 col0\" >621,9</td>\n",
       "                        <td id=\"T_a9a82363_f140_11ea_91a9_c0e4341b61derow8_col1\" class=\"data row8 col1\" >2</td>\n",
       "            </tr>\n",
       "            <tr>\n",
       "                        <th id=\"T_a9a82363_f140_11ea_91a9_c0e4341b61delevel0_row9\" class=\"row_heading level0 row9\" >9</th>\n",
       "                        <td id=\"T_a9a82363_f140_11ea_91a9_c0e4341b61derow9_col0\" class=\"data row9 col0\" >691</td>\n",
       "                        <td id=\"T_a9a82363_f140_11ea_91a9_c0e4341b61derow9_col1\" class=\"data row9 col1\" >1</td>\n",
       "            </tr>\n",
       "    </tbody></table>"
      ],
      "text/plain": [
       "<pandas.io.formats.style.Styler at 0x1e706e5ba00>"
      ]
     },
     "execution_count": 5,
     "metadata": {},
     "output_type": "execute_result"
    }
   ],
   "source": [
    "# Conteo de observaciones por cada uno de los rangos del histograma\n",
    "durations.style.format(format_spec)"
   ]
  },
  {
   "cell_type": "code",
   "execution_count": 6,
   "metadata": {},
   "outputs": [
    {
     "data": {
      "text/html": [
       "<style  type=\"text/css\" >\n",
       "</style><table id=\"T_a9ad0577_f140_11ea_b76c_c0e4341b61de\" ><thead>    <tr>        <th class=\"blank level0\" ></th>        <th class=\"col_heading level0 col0\" >duración</th>    </tr></thead><tbody>\n",
       "                <tr>\n",
       "                        <th id=\"T_a9ad0577_f140_11ea_b76c_c0e4341b61delevel0_row0\" class=\"row_heading level0 row0\" >count</th>\n",
       "                        <td id=\"T_a9ad0577_f140_11ea_b76c_c0e4341b61derow0_col0\" class=\"data row0 col0\" >2.286</td>\n",
       "            </tr>\n",
       "            <tr>\n",
       "                        <th id=\"T_a9ad0577_f140_11ea_b76c_c0e4341b61delevel0_row1\" class=\"row_heading level0 row1\" >mean</th>\n",
       "                        <td id=\"T_a9ad0577_f140_11ea_b76c_c0e4341b61derow1_col0\" class=\"data row1 col0\" >39,1439</td>\n",
       "            </tr>\n",
       "            <tr>\n",
       "                        <th id=\"T_a9ad0577_f140_11ea_b76c_c0e4341b61delevel0_row2\" class=\"row_heading level0 row2\" >std</th>\n",
       "                        <td id=\"T_a9ad0577_f140_11ea_b76c_c0e4341b61derow2_col0\" class=\"data row2 col0\" >50,3152</td>\n",
       "            </tr>\n",
       "            <tr>\n",
       "                        <th id=\"T_a9ad0577_f140_11ea_b76c_c0e4341b61delevel0_row3\" class=\"row_heading level0 row3\" >min</th>\n",
       "                        <td id=\"T_a9ad0577_f140_11ea_b76c_c0e4341b61derow3_col0\" class=\"data row3 col0\" >0</td>\n",
       "            </tr>\n",
       "            <tr>\n",
       "                        <th id=\"T_a9ad0577_f140_11ea_b76c_c0e4341b61delevel0_row4\" class=\"row_heading level0 row4\" >25%</th>\n",
       "                        <td id=\"T_a9ad0577_f140_11ea_b76c_c0e4341b61derow4_col0\" class=\"data row4 col0\" >11</td>\n",
       "            </tr>\n",
       "            <tr>\n",
       "                        <th id=\"T_a9ad0577_f140_11ea_b76c_c0e4341b61delevel0_row5\" class=\"row_heading level0 row5\" >50%</th>\n",
       "                        <td id=\"T_a9ad0577_f140_11ea_b76c_c0e4341b61derow5_col0\" class=\"data row5 col0\" >23</td>\n",
       "            </tr>\n",
       "            <tr>\n",
       "                        <th id=\"T_a9ad0577_f140_11ea_b76c_c0e4341b61delevel0_row6\" class=\"row_heading level0 row6\" >75%</th>\n",
       "                        <td id=\"T_a9ad0577_f140_11ea_b76c_c0e4341b61derow6_col0\" class=\"data row6 col0\" >50</td>\n",
       "            </tr>\n",
       "            <tr>\n",
       "                        <th id=\"T_a9ad0577_f140_11ea_b76c_c0e4341b61delevel0_row7\" class=\"row_heading level0 row7\" >max</th>\n",
       "                        <td id=\"T_a9ad0577_f140_11ea_b76c_c0e4341b61derow7_col0\" class=\"data row7 col0\" >691</td>\n",
       "            </tr>\n",
       "    </tbody></table>"
      ],
      "text/plain": [
       "<pandas.io.formats.style.Styler at 0x1e706e5bf10>"
      ]
     },
     "execution_count": 6,
     "metadata": {},
     "output_type": "execute_result"
    }
   ],
   "source": [
    "# Caracterización estadística básica de las duraciones\n",
    "durations_df.describe().style.format(format_dict)"
   ]
  },
  {
   "cell_type": "markdown",
   "metadata": {},
   "source": [
    "### Analizar patrones según día de la semana, hora, edad y sexo de los pacientes"
   ]
  },
  {
   "cell_type": "code",
   "execution_count": 21,
   "metadata": {},
   "outputs": [],
   "source": [
    "# Obtener dataframe con las llegadas de los pacientes por día de la semana, hora, edad y sexo.\n",
    "COLUMNS_4 = [clean.COLUMN_NAMES['weekday']['es'],\n",
    "             clean.COLUMN_NAMES['hour']['es'],\n",
    "             clean.COLUMN_NAMES['age']['es'],\n",
    "             clean.COLUMN_NAMES['gender']['es'],\n",
    "             ]\n",
    "total_dfs = main.timedeltas_bars_times_total(d_t, COLUMNS_4, [999], 'es', main.MESSAGES, clean.COLUMN_NAMES, False, False)\n",
    "t_weekday, t_hour = total_dfs[0][0], total_dfs[0][1]\n",
    "c_weekday, c_hour = total_dfs[1][1], total_dfs[1][0]"
   ]
  },
  {
   "cell_type": "code",
   "execution_count": 22,
   "metadata": {},
   "outputs": [
    {
     "data": {
      "image/png": "[encoded data removed]",
      "text/plain": [
       "<Figure size 432x288 with 1 Axes>"
      ]
     },
     "metadata": {
      "needs_background": "light"
     },
     "output_type": "display_data"
    }
   ],
   "source": [
    "# Gráfico de barras con las llegadas de pacientes por día de la semana\n",
    "df__, title, x_axisname, y_axisname = c_weekday[0], c_weekday[1], c_weekday[2], c_weekday[3] \n",
    "ax1 = clean.build_count_barchart(df__, title, x_axisname, y_axisname, None, False)\n",
    "clean.customizechart(ax1, title, x_axisname, y_axisname)"
   ]
  },
  {
   "cell_type": "code",
   "execution_count": 23,
   "metadata": {},
   "outputs": [
    {
     "data": {
      "text/html": [
       "<style  type=\"text/css\" >\n",
       "</style><table id=\"T_3a054103_f143_11ea_9d08_c0e4341b61de\" ><thead>    <tr>        <th class=\"blank level0\" ></th>        <th class=\"col_heading level0 col0\" >sum</th>        <th class=\"col_heading level0 col1\" >min</th>        <th class=\"col_heading level0 col2\" >mean</th>        <th class=\"col_heading level0 col3\" >max</th>        <th class=\"col_heading level0 col4\" >std</th>        <th class=\"col_heading level0 col5\" >count</th>    </tr>    <tr>        <th class=\"index_name level0\" >dia_semana</th>        <th class=\"blank\" ></th>        <th class=\"blank\" ></th>        <th class=\"blank\" ></th>        <th class=\"blank\" ></th>        <th class=\"blank\" ></th>        <th class=\"blank\" ></th>    </tr></thead><tbody>\n",
       "                <tr>\n",
       "                        <th id=\"T_3a054103_f143_11ea_9d08_c0e4341b61delevel0_row0\" class=\"row_heading level0 row0\" >1</th>\n",
       "                        <td id=\"T_3a054103_f143_11ea_9d08_c0e4341b61derow0_col0\" class=\"data row0 col0\" >27.918</td>\n",
       "                        <td id=\"T_3a054103_f143_11ea_9d08_c0e4341b61derow0_col1\" class=\"data row0 col1\" >0</td>\n",
       "                        <td id=\"T_3a054103_f143_11ea_9d08_c0e4341b61derow0_col2\" class=\"data row0 col2\" >40,0545</td>\n",
       "                        <td id=\"T_3a054103_f143_11ea_9d08_c0e4341b61derow0_col3\" class=\"data row0 col3\" >432</td>\n",
       "                        <td id=\"T_3a054103_f143_11ea_9d08_c0e4341b61derow0_col4\" class=\"data row0 col4\" >46,3868</td>\n",
       "                        <td id=\"T_3a054103_f143_11ea_9d08_c0e4341b61derow0_col5\" class=\"data row0 col5\" >697</td>\n",
       "            </tr>\n",
       "            <tr>\n",
       "                        <th id=\"T_3a054103_f143_11ea_9d08_c0e4341b61delevel0_row1\" class=\"row_heading level0 row1\" >2</th>\n",
       "                        <td id=\"T_3a054103_f143_11ea_9d08_c0e4341b61derow1_col0\" class=\"data row1 col0\" >17.323</td>\n",
       "                        <td id=\"T_3a054103_f143_11ea_9d08_c0e4341b61derow1_col1\" class=\"data row1 col1\" >0</td>\n",
       "                        <td id=\"T_3a054103_f143_11ea_9d08_c0e4341b61derow1_col2\" class=\"data row1 col2\" >36,2406</td>\n",
       "                        <td id=\"T_3a054103_f143_11ea_9d08_c0e4341b61derow1_col3\" class=\"data row1 col3\" >323</td>\n",
       "                        <td id=\"T_3a054103_f143_11ea_9d08_c0e4341b61derow1_col4\" class=\"data row1 col4\" >40,724</td>\n",
       "                        <td id=\"T_3a054103_f143_11ea_9d08_c0e4341b61derow1_col5\" class=\"data row1 col5\" >478</td>\n",
       "            </tr>\n",
       "            <tr>\n",
       "                        <th id=\"T_3a054103_f143_11ea_9d08_c0e4341b61delevel0_row2\" class=\"row_heading level0 row2\" >3</th>\n",
       "                        <td id=\"T_3a054103_f143_11ea_9d08_c0e4341b61derow2_col0\" class=\"data row2 col0\" >8.983</td>\n",
       "                        <td id=\"T_3a054103_f143_11ea_9d08_c0e4341b61derow2_col1\" class=\"data row2 col1\" >0</td>\n",
       "                        <td id=\"T_3a054103_f143_11ea_9d08_c0e4341b61derow2_col2\" class=\"data row2 col2\" >41,2064</td>\n",
       "                        <td id=\"T_3a054103_f143_11ea_9d08_c0e4341b61derow2_col3\" class=\"data row2 col3\" >691</td>\n",
       "                        <td id=\"T_3a054103_f143_11ea_9d08_c0e4341b61derow2_col4\" class=\"data row2 col4\" >64,84</td>\n",
       "                        <td id=\"T_3a054103_f143_11ea_9d08_c0e4341b61derow2_col5\" class=\"data row2 col5\" >218</td>\n",
       "            </tr>\n",
       "            <tr>\n",
       "                        <th id=\"T_3a054103_f143_11ea_9d08_c0e4341b61delevel0_row3\" class=\"row_heading level0 row3\" >4</th>\n",
       "                        <td id=\"T_3a054103_f143_11ea_9d08_c0e4341b61derow3_col0\" class=\"data row3 col0\" >14.523</td>\n",
       "                        <td id=\"T_3a054103_f143_11ea_9d08_c0e4341b61derow3_col1\" class=\"data row3 col1\" >0</td>\n",
       "                        <td id=\"T_3a054103_f143_11ea_9d08_c0e4341b61derow3_col2\" class=\"data row3 col2\" >43,8761</td>\n",
       "                        <td id=\"T_3a054103_f143_11ea_9d08_c0e4341b61derow3_col3\" class=\"data row3 col3\" >586</td>\n",
       "                        <td id=\"T_3a054103_f143_11ea_9d08_c0e4341b61derow3_col4\" class=\"data row3 col4\" >52,8958</td>\n",
       "                        <td id=\"T_3a054103_f143_11ea_9d08_c0e4341b61derow3_col5\" class=\"data row3 col5\" >331</td>\n",
       "            </tr>\n",
       "            <tr>\n",
       "                        <th id=\"T_3a054103_f143_11ea_9d08_c0e4341b61delevel0_row4\" class=\"row_heading level0 row4\" >5</th>\n",
       "                        <td id=\"T_3a054103_f143_11ea_9d08_c0e4341b61derow4_col0\" class=\"data row4 col0\" >633</td>\n",
       "                        <td id=\"T_3a054103_f143_11ea_9d08_c0e4341b61derow4_col1\" class=\"data row4 col1\" >0</td>\n",
       "                        <td id=\"T_3a054103_f143_11ea_9d08_c0e4341b61derow4_col2\" class=\"data row4 col2\" >42,2</td>\n",
       "                        <td id=\"T_3a054103_f143_11ea_9d08_c0e4341b61derow4_col3\" class=\"data row4 col3\" >177</td>\n",
       "                        <td id=\"T_3a054103_f143_11ea_9d08_c0e4341b61derow4_col4\" class=\"data row4 col4\" >45,192</td>\n",
       "                        <td id=\"T_3a054103_f143_11ea_9d08_c0e4341b61derow4_col5\" class=\"data row4 col5\" >15</td>\n",
       "            </tr>\n",
       "            <tr>\n",
       "                        <th id=\"T_3a054103_f143_11ea_9d08_c0e4341b61delevel0_row5\" class=\"row_heading level0 row5\" >6</th>\n",
       "                        <td id=\"T_3a054103_f143_11ea_9d08_c0e4341b61derow5_col0\" class=\"data row5 col0\" >5</td>\n",
       "                        <td id=\"T_3a054103_f143_11ea_9d08_c0e4341b61derow5_col1\" class=\"data row5 col1\" >5</td>\n",
       "                        <td id=\"T_3a054103_f143_11ea_9d08_c0e4341b61derow5_col2\" class=\"data row5 col2\" >5</td>\n",
       "                        <td id=\"T_3a054103_f143_11ea_9d08_c0e4341b61derow5_col3\" class=\"data row5 col3\" >5</td>\n",
       "                        <td id=\"T_3a054103_f143_11ea_9d08_c0e4341b61derow5_col4\" class=\"data row5 col4\" >nan</td>\n",
       "                        <td id=\"T_3a054103_f143_11ea_9d08_c0e4341b61derow5_col5\" class=\"data row5 col5\" >1</td>\n",
       "            </tr>\n",
       "            <tr>\n",
       "                        <th id=\"T_3a054103_f143_11ea_9d08_c0e4341b61delevel0_row6\" class=\"row_heading level0 row6\" >7</th>\n",
       "                        <td id=\"T_3a054103_f143_11ea_9d08_c0e4341b61derow6_col0\" class=\"data row6 col0\" >19.405</td>\n",
       "                        <td id=\"T_3a054103_f143_11ea_9d08_c0e4341b61derow6_col1\" class=\"data row6 col1\" >0</td>\n",
       "                        <td id=\"T_3a054103_f143_11ea_9d08_c0e4341b61derow6_col2\" class=\"data row6 col2\" >36,7519</td>\n",
       "                        <td id=\"T_3a054103_f143_11ea_9d08_c0e4341b61derow6_col3\" class=\"data row6 col3\" >591</td>\n",
       "                        <td id=\"T_3a054103_f143_11ea_9d08_c0e4341b61derow6_col4\" class=\"data row6 col4\" >54,8557</td>\n",
       "                        <td id=\"T_3a054103_f143_11ea_9d08_c0e4341b61derow6_col5\" class=\"data row6 col5\" >528</td>\n",
       "            </tr>\n",
       "    </tbody></table>"
      ],
      "text/plain": [
       "<pandas.io.formats.style.Styler at 0x1e7087f1fd0>"
      ]
     },
     "execution_count": 23,
     "metadata": {},
     "output_type": "execute_result"
    }
   ],
   "source": [
    "# Caracterización estadística básica de las llegadas de pacientes por día de la semana\n",
    "t_weekday.style.format(format_dict)"
   ]
  },
  {
   "cell_type": "code",
   "execution_count": 24,
   "metadata": {},
   "outputs": [
    {
     "data": {
      "image/png": "[encoded data removed]",
      "text/plain": [
       "<Figure size 432x288 with 1 Axes>"
      ]
     },
     "metadata": {
      "needs_background": "light"
     },
     "output_type": "display_data"
    }
   ],
   "source": [
    "# Gráfico de barras con las llegadas de pacientes por hora\n",
    "df__, title, x_axisname, y_axisname = c_hour[0], c_hour[1], c_hour[2], c_hour[3] \n",
    "ax1 = clean.build_count_barchart(df__, title, x_axisname, y_axisname, None, False)\n",
    "clean.customizechart(ax1, title, x_axisname, y_axisname)"
   ]
  },
  {
   "cell_type": "code",
   "execution_count": 11,
   "metadata": {},
   "outputs": [
    {
     "data": {
      "text/html": [
       "<style  type=\"text/css\" >\n",
       "</style><table id=\"T_aa1fe295_f140_11ea_a0fb_c0e4341b61de\" ><thead>    <tr>        <th class=\"blank level0\" ></th>        <th class=\"col_heading level0 col0\" >sum</th>        <th class=\"col_heading level0 col1\" >min</th>        <th class=\"col_heading level0 col2\" >mean</th>        <th class=\"col_heading level0 col3\" >max</th>        <th class=\"col_heading level0 col4\" >std</th>        <th class=\"col_heading level0 col5\" >count</th>    </tr>    <tr>        <th class=\"index_name level0\" >hora</th>        <th class=\"blank\" ></th>        <th class=\"blank\" ></th>        <th class=\"blank\" ></th>        <th class=\"blank\" ></th>        <th class=\"blank\" ></th>        <th class=\"blank\" ></th>    </tr></thead><tbody>\n",
       "                <tr>\n",
       "                        <th id=\"T_aa1fe295_f140_11ea_a0fb_c0e4341b61delevel0_row0\" class=\"row_heading level0 row0\" >0</th>\n",
       "                        <td id=\"T_aa1fe295_f140_11ea_a0fb_c0e4341b61derow0_col0\" class=\"data row0 col0\" >1.199</td>\n",
       "                        <td id=\"T_aa1fe295_f140_11ea_a0fb_c0e4341b61derow0_col1\" class=\"data row0 col1\" >508</td>\n",
       "                        <td id=\"T_aa1fe295_f140_11ea_a0fb_c0e4341b61derow0_col2\" class=\"data row0 col2\" >599,5</td>\n",
       "                        <td id=\"T_aa1fe295_f140_11ea_a0fb_c0e4341b61derow0_col3\" class=\"data row0 col3\" >691</td>\n",
       "                        <td id=\"T_aa1fe295_f140_11ea_a0fb_c0e4341b61derow0_col4\" class=\"data row0 col4\" >129,401</td>\n",
       "                        <td id=\"T_aa1fe295_f140_11ea_a0fb_c0e4341b61derow0_col5\" class=\"data row0 col5\" >2</td>\n",
       "            </tr>\n",
       "            <tr>\n",
       "                        <th id=\"T_aa1fe295_f140_11ea_a0fb_c0e4341b61delevel0_row1\" class=\"row_heading level0 row1\" >1</th>\n",
       "                        <td id=\"T_aa1fe295_f140_11ea_a0fb_c0e4341b61derow1_col0\" class=\"data row1 col0\" >860</td>\n",
       "                        <td id=\"T_aa1fe295_f140_11ea_a0fb_c0e4341b61derow1_col1\" class=\"data row1 col1\" >0</td>\n",
       "                        <td id=\"T_aa1fe295_f140_11ea_a0fb_c0e4341b61derow1_col2\" class=\"data row1 col2\" >286,667</td>\n",
       "                        <td id=\"T_aa1fe295_f140_11ea_a0fb_c0e4341b61derow1_col3\" class=\"data row1 col3\" >586</td>\n",
       "                        <td id=\"T_aa1fe295_f140_11ea_a0fb_c0e4341b61derow1_col4\" class=\"data row1 col4\" >293,205</td>\n",
       "                        <td id=\"T_aa1fe295_f140_11ea_a0fb_c0e4341b61derow1_col5\" class=\"data row1 col5\" >3</td>\n",
       "            </tr>\n",
       "            <tr>\n",
       "                        <th id=\"T_aa1fe295_f140_11ea_a0fb_c0e4341b61delevel0_row2\" class=\"row_heading level0 row2\" >4</th>\n",
       "                        <td id=\"T_aa1fe295_f140_11ea_a0fb_c0e4341b61derow2_col0\" class=\"data row2 col0\" >344</td>\n",
       "                        <td id=\"T_aa1fe295_f140_11ea_a0fb_c0e4341b61derow2_col1\" class=\"data row2 col1\" >0</td>\n",
       "                        <td id=\"T_aa1fe295_f140_11ea_a0fb_c0e4341b61derow2_col2\" class=\"data row2 col2\" >172</td>\n",
       "                        <td id=\"T_aa1fe295_f140_11ea_a0fb_c0e4341b61derow2_col3\" class=\"data row2 col3\" >344</td>\n",
       "                        <td id=\"T_aa1fe295_f140_11ea_a0fb_c0e4341b61derow2_col4\" class=\"data row2 col4\" >243,245</td>\n",
       "                        <td id=\"T_aa1fe295_f140_11ea_a0fb_c0e4341b61derow2_col5\" class=\"data row2 col5\" >2</td>\n",
       "            </tr>\n",
       "            <tr>\n",
       "                        <th id=\"T_aa1fe295_f140_11ea_a0fb_c0e4341b61delevel0_row3\" class=\"row_heading level0 row3\" >5</th>\n",
       "                        <td id=\"T_aa1fe295_f140_11ea_a0fb_c0e4341b61derow3_col0\" class=\"data row3 col0\" >432</td>\n",
       "                        <td id=\"T_aa1fe295_f140_11ea_a0fb_c0e4341b61derow3_col1\" class=\"data row3 col1\" >0</td>\n",
       "                        <td id=\"T_aa1fe295_f140_11ea_a0fb_c0e4341b61derow3_col2\" class=\"data row3 col2\" >216</td>\n",
       "                        <td id=\"T_aa1fe295_f140_11ea_a0fb_c0e4341b61derow3_col3\" class=\"data row3 col3\" >432</td>\n",
       "                        <td id=\"T_aa1fe295_f140_11ea_a0fb_c0e4341b61derow3_col4\" class=\"data row3 col4\" >305,47</td>\n",
       "                        <td id=\"T_aa1fe295_f140_11ea_a0fb_c0e4341b61derow3_col5\" class=\"data row3 col5\" >2</td>\n",
       "            </tr>\n",
       "            <tr>\n",
       "                        <th id=\"T_aa1fe295_f140_11ea_a0fb_c0e4341b61delevel0_row4\" class=\"row_heading level0 row4\" >7</th>\n",
       "                        <td id=\"T_aa1fe295_f140_11ea_a0fb_c0e4341b61derow4_col0\" class=\"data row4 col0\" >7.294</td>\n",
       "                        <td id=\"T_aa1fe295_f140_11ea_a0fb_c0e4341b61derow4_col1\" class=\"data row4 col1\" >4</td>\n",
       "                        <td id=\"T_aa1fe295_f140_11ea_a0fb_c0e4341b61derow4_col2\" class=\"data row4 col2\" >39,2151</td>\n",
       "                        <td id=\"T_aa1fe295_f140_11ea_a0fb_c0e4341b61derow4_col3\" class=\"data row4 col3\" >300</td>\n",
       "                        <td id=\"T_aa1fe295_f140_11ea_a0fb_c0e4341b61derow4_col4\" class=\"data row4 col4\" >54,0998</td>\n",
       "                        <td id=\"T_aa1fe295_f140_11ea_a0fb_c0e4341b61derow4_col5\" class=\"data row4 col5\" >186</td>\n",
       "            </tr>\n",
       "            <tr>\n",
       "                        <th id=\"T_aa1fe295_f140_11ea_a0fb_c0e4341b61delevel0_row5\" class=\"row_heading level0 row5\" >8</th>\n",
       "                        <td id=\"T_aa1fe295_f140_11ea_a0fb_c0e4341b61derow5_col0\" class=\"data row5 col0\" >15.908</td>\n",
       "                        <td id=\"T_aa1fe295_f140_11ea_a0fb_c0e4341b61derow5_col1\" class=\"data row5 col1\" >0</td>\n",
       "                        <td id=\"T_aa1fe295_f140_11ea_a0fb_c0e4341b61derow5_col2\" class=\"data row5 col2\" >46,1101</td>\n",
       "                        <td id=\"T_aa1fe295_f140_11ea_a0fb_c0e4341b61derow5_col3\" class=\"data row5 col3\" >277</td>\n",
       "                        <td id=\"T_aa1fe295_f140_11ea_a0fb_c0e4341b61derow5_col4\" class=\"data row5 col4\" >51,9345</td>\n",
       "                        <td id=\"T_aa1fe295_f140_11ea_a0fb_c0e4341b61derow5_col5\" class=\"data row5 col5\" >345</td>\n",
       "            </tr>\n",
       "            <tr>\n",
       "                        <th id=\"T_aa1fe295_f140_11ea_a0fb_c0e4341b61delevel0_row6\" class=\"row_heading level0 row6\" >9</th>\n",
       "                        <td id=\"T_aa1fe295_f140_11ea_a0fb_c0e4341b61derow6_col0\" class=\"data row6 col0\" >11.692</td>\n",
       "                        <td id=\"T_aa1fe295_f140_11ea_a0fb_c0e4341b61derow6_col1\" class=\"data row6 col1\" >0</td>\n",
       "                        <td id=\"T_aa1fe295_f140_11ea_a0fb_c0e4341b61derow6_col2\" class=\"data row6 col2\" >37,1175</td>\n",
       "                        <td id=\"T_aa1fe295_f140_11ea_a0fb_c0e4341b61derow6_col3\" class=\"data row6 col3\" >232</td>\n",
       "                        <td id=\"T_aa1fe295_f140_11ea_a0fb_c0e4341b61derow6_col4\" class=\"data row6 col4\" >41,7822</td>\n",
       "                        <td id=\"T_aa1fe295_f140_11ea_a0fb_c0e4341b61derow6_col5\" class=\"data row6 col5\" >315</td>\n",
       "            </tr>\n",
       "            <tr>\n",
       "                        <th id=\"T_aa1fe295_f140_11ea_a0fb_c0e4341b61delevel0_row7\" class=\"row_heading level0 row7\" >10</th>\n",
       "                        <td id=\"T_aa1fe295_f140_11ea_a0fb_c0e4341b61derow7_col0\" class=\"data row7 col0\" >9.281</td>\n",
       "                        <td id=\"T_aa1fe295_f140_11ea_a0fb_c0e4341b61derow7_col1\" class=\"data row7 col1\" >0</td>\n",
       "                        <td id=\"T_aa1fe295_f140_11ea_a0fb_c0e4341b61derow7_col2\" class=\"data row7 col2\" >36,3961</td>\n",
       "                        <td id=\"T_aa1fe295_f140_11ea_a0fb_c0e4341b61derow7_col3\" class=\"data row7 col3\" >258</td>\n",
       "                        <td id=\"T_aa1fe295_f140_11ea_a0fb_c0e4341b61derow7_col4\" class=\"data row7 col4\" >38,368</td>\n",
       "                        <td id=\"T_aa1fe295_f140_11ea_a0fb_c0e4341b61derow7_col5\" class=\"data row7 col5\" >255</td>\n",
       "            </tr>\n",
       "            <tr>\n",
       "                        <th id=\"T_aa1fe295_f140_11ea_a0fb_c0e4341b61delevel0_row8\" class=\"row_heading level0 row8\" >11</th>\n",
       "                        <td id=\"T_aa1fe295_f140_11ea_a0fb_c0e4341b61derow8_col0\" class=\"data row8 col0\" >5.447</td>\n",
       "                        <td id=\"T_aa1fe295_f140_11ea_a0fb_c0e4341b61derow8_col1\" class=\"data row8 col1\" >0</td>\n",
       "                        <td id=\"T_aa1fe295_f140_11ea_a0fb_c0e4341b61derow8_col2\" class=\"data row8 col2\" >29,1283</td>\n",
       "                        <td id=\"T_aa1fe295_f140_11ea_a0fb_c0e4341b61derow8_col3\" class=\"data row8 col3\" >203</td>\n",
       "                        <td id=\"T_aa1fe295_f140_11ea_a0fb_c0e4341b61derow8_col4\" class=\"data row8 col4\" >33,9268</td>\n",
       "                        <td id=\"T_aa1fe295_f140_11ea_a0fb_c0e4341b61derow8_col5\" class=\"data row8 col5\" >187</td>\n",
       "            </tr>\n",
       "            <tr>\n",
       "                        <th id=\"T_aa1fe295_f140_11ea_a0fb_c0e4341b61delevel0_row9\" class=\"row_heading level0 row9\" >12</th>\n",
       "                        <td id=\"T_aa1fe295_f140_11ea_a0fb_c0e4341b61derow9_col0\" class=\"data row9 col0\" >2.706</td>\n",
       "                        <td id=\"T_aa1fe295_f140_11ea_a0fb_c0e4341b61derow9_col1\" class=\"data row9 col1\" >0</td>\n",
       "                        <td id=\"T_aa1fe295_f140_11ea_a0fb_c0e4341b61derow9_col2\" class=\"data row9 col2\" >28,1875</td>\n",
       "                        <td id=\"T_aa1fe295_f140_11ea_a0fb_c0e4341b61derow9_col3\" class=\"data row9 col3\" >158</td>\n",
       "                        <td id=\"T_aa1fe295_f140_11ea_a0fb_c0e4341b61derow9_col4\" class=\"data row9 col4\" >29,7439</td>\n",
       "                        <td id=\"T_aa1fe295_f140_11ea_a0fb_c0e4341b61derow9_col5\" class=\"data row9 col5\" >96</td>\n",
       "            </tr>\n",
       "            <tr>\n",
       "                        <th id=\"T_aa1fe295_f140_11ea_a0fb_c0e4341b61delevel0_row10\" class=\"row_heading level0 row10\" >13</th>\n",
       "                        <td id=\"T_aa1fe295_f140_11ea_a0fb_c0e4341b61derow10_col0\" class=\"data row10 col0\" >3.203</td>\n",
       "                        <td id=\"T_aa1fe295_f140_11ea_a0fb_c0e4341b61derow10_col1\" class=\"data row10 col1\" >0</td>\n",
       "                        <td id=\"T_aa1fe295_f140_11ea_a0fb_c0e4341b61derow10_col2\" class=\"data row10 col2\" >47,806</td>\n",
       "                        <td id=\"T_aa1fe295_f140_11ea_a0fb_c0e4341b61derow10_col3\" class=\"data row10 col3\" >591</td>\n",
       "                        <td id=\"T_aa1fe295_f140_11ea_a0fb_c0e4341b61derow10_col4\" class=\"data row10 col4\" >103,082</td>\n",
       "                        <td id=\"T_aa1fe295_f140_11ea_a0fb_c0e4341b61derow10_col5\" class=\"data row10 col5\" >67</td>\n",
       "            </tr>\n",
       "            <tr>\n",
       "                        <th id=\"T_aa1fe295_f140_11ea_a0fb_c0e4341b61delevel0_row11\" class=\"row_heading level0 row11\" >14</th>\n",
       "                        <td id=\"T_aa1fe295_f140_11ea_a0fb_c0e4341b61derow11_col0\" class=\"data row11 col0\" >3.117</td>\n",
       "                        <td id=\"T_aa1fe295_f140_11ea_a0fb_c0e4341b61derow11_col1\" class=\"data row11 col1\" >0</td>\n",
       "                        <td id=\"T_aa1fe295_f140_11ea_a0fb_c0e4341b61derow11_col2\" class=\"data row11 col2\" >35,8276</td>\n",
       "                        <td id=\"T_aa1fe295_f140_11ea_a0fb_c0e4341b61derow11_col3\" class=\"data row11 col3\" >195</td>\n",
       "                        <td id=\"T_aa1fe295_f140_11ea_a0fb_c0e4341b61derow11_col4\" class=\"data row11 col4\" >37,3258</td>\n",
       "                        <td id=\"T_aa1fe295_f140_11ea_a0fb_c0e4341b61derow11_col5\" class=\"data row11 col5\" >87</td>\n",
       "            </tr>\n",
       "            <tr>\n",
       "                        <th id=\"T_aa1fe295_f140_11ea_a0fb_c0e4341b61delevel0_row12\" class=\"row_heading level0 row12\" >15</th>\n",
       "                        <td id=\"T_aa1fe295_f140_11ea_a0fb_c0e4341b61derow12_col0\" class=\"data row12 col0\" >10.982</td>\n",
       "                        <td id=\"T_aa1fe295_f140_11ea_a0fb_c0e4341b61derow12_col1\" class=\"data row12 col1\" >0</td>\n",
       "                        <td id=\"T_aa1fe295_f140_11ea_a0fb_c0e4341b61derow12_col2\" class=\"data row12 col2\" >38,2648</td>\n",
       "                        <td id=\"T_aa1fe295_f140_11ea_a0fb_c0e4341b61derow12_col3\" class=\"data row12 col3\" >197</td>\n",
       "                        <td id=\"T_aa1fe295_f140_11ea_a0fb_c0e4341b61derow12_col4\" class=\"data row12 col4\" >37,053</td>\n",
       "                        <td id=\"T_aa1fe295_f140_11ea_a0fb_c0e4341b61derow12_col5\" class=\"data row12 col5\" >287</td>\n",
       "            </tr>\n",
       "            <tr>\n",
       "                        <th id=\"T_aa1fe295_f140_11ea_a0fb_c0e4341b61delevel0_row13\" class=\"row_heading level0 row13\" >16</th>\n",
       "                        <td id=\"T_aa1fe295_f140_11ea_a0fb_c0e4341b61derow13_col0\" class=\"data row13 col0\" >8.154</td>\n",
       "                        <td id=\"T_aa1fe295_f140_11ea_a0fb_c0e4341b61derow13_col1\" class=\"data row13 col1\" >0</td>\n",
       "                        <td id=\"T_aa1fe295_f140_11ea_a0fb_c0e4341b61derow13_col2\" class=\"data row13 col2\" >45,0497</td>\n",
       "                        <td id=\"T_aa1fe295_f140_11ea_a0fb_c0e4341b61derow13_col3\" class=\"data row13 col3\" >259</td>\n",
       "                        <td id=\"T_aa1fe295_f140_11ea_a0fb_c0e4341b61derow13_col4\" class=\"data row13 col4\" >36,8853</td>\n",
       "                        <td id=\"T_aa1fe295_f140_11ea_a0fb_c0e4341b61derow13_col5\" class=\"data row13 col5\" >181</td>\n",
       "            </tr>\n",
       "            <tr>\n",
       "                        <th id=\"T_aa1fe295_f140_11ea_a0fb_c0e4341b61delevel0_row14\" class=\"row_heading level0 row14\" >17</th>\n",
       "                        <td id=\"T_aa1fe295_f140_11ea_a0fb_c0e4341b61derow14_col0\" class=\"data row14 col0\" >5.504</td>\n",
       "                        <td id=\"T_aa1fe295_f140_11ea_a0fb_c0e4341b61derow14_col1\" class=\"data row14 col1\" >0</td>\n",
       "                        <td id=\"T_aa1fe295_f140_11ea_a0fb_c0e4341b61derow14_col2\" class=\"data row14 col2\" >36,9396</td>\n",
       "                        <td id=\"T_aa1fe295_f140_11ea_a0fb_c0e4341b61derow14_col3\" class=\"data row14 col3\" >256</td>\n",
       "                        <td id=\"T_aa1fe295_f140_11ea_a0fb_c0e4341b61derow14_col4\" class=\"data row14 col4\" >35,4939</td>\n",
       "                        <td id=\"T_aa1fe295_f140_11ea_a0fb_c0e4341b61derow14_col5\" class=\"data row14 col5\" >149</td>\n",
       "            </tr>\n",
       "            <tr>\n",
       "                        <th id=\"T_aa1fe295_f140_11ea_a0fb_c0e4341b61delevel0_row15\" class=\"row_heading level0 row15\" >18</th>\n",
       "                        <td id=\"T_aa1fe295_f140_11ea_a0fb_c0e4341b61derow15_col0\" class=\"data row15 col0\" >1.809</td>\n",
       "                        <td id=\"T_aa1fe295_f140_11ea_a0fb_c0e4341b61derow15_col1\" class=\"data row15 col1\" >0</td>\n",
       "                        <td id=\"T_aa1fe295_f140_11ea_a0fb_c0e4341b61derow15_col2\" class=\"data row15 col2\" >26,2174</td>\n",
       "                        <td id=\"T_aa1fe295_f140_11ea_a0fb_c0e4341b61derow15_col3\" class=\"data row15 col3\" >140</td>\n",
       "                        <td id=\"T_aa1fe295_f140_11ea_a0fb_c0e4341b61derow15_col4\" class=\"data row15 col4\" >27,8652</td>\n",
       "                        <td id=\"T_aa1fe295_f140_11ea_a0fb_c0e4341b61derow15_col5\" class=\"data row15 col5\" >69</td>\n",
       "            </tr>\n",
       "            <tr>\n",
       "                        <th id=\"T_aa1fe295_f140_11ea_a0fb_c0e4341b61delevel0_row16\" class=\"row_heading level0 row16\" >19</th>\n",
       "                        <td id=\"T_aa1fe295_f140_11ea_a0fb_c0e4341b61derow16_col0\" class=\"data row16 col0\" >553</td>\n",
       "                        <td id=\"T_aa1fe295_f140_11ea_a0fb_c0e4341b61derow16_col1\" class=\"data row16 col1\" >0</td>\n",
       "                        <td id=\"T_aa1fe295_f140_11ea_a0fb_c0e4341b61derow16_col2\" class=\"data row16 col2\" >27,65</td>\n",
       "                        <td id=\"T_aa1fe295_f140_11ea_a0fb_c0e4341b61derow16_col3\" class=\"data row16 col3\" >122</td>\n",
       "                        <td id=\"T_aa1fe295_f140_11ea_a0fb_c0e4341b61derow16_col4\" class=\"data row16 col4\" >36,2408</td>\n",
       "                        <td id=\"T_aa1fe295_f140_11ea_a0fb_c0e4341b61derow16_col5\" class=\"data row16 col5\" >20</td>\n",
       "            </tr>\n",
       "            <tr>\n",
       "                        <th id=\"T_aa1fe295_f140_11ea_a0fb_c0e4341b61delevel0_row17\" class=\"row_heading level0 row17\" >20</th>\n",
       "                        <td id=\"T_aa1fe295_f140_11ea_a0fb_c0e4341b61derow17_col0\" class=\"data row17 col0\" >163</td>\n",
       "                        <td id=\"T_aa1fe295_f140_11ea_a0fb_c0e4341b61derow17_col1\" class=\"data row17 col1\" >6</td>\n",
       "                        <td id=\"T_aa1fe295_f140_11ea_a0fb_c0e4341b61derow17_col2\" class=\"data row17 col2\" >27,1667</td>\n",
       "                        <td id=\"T_aa1fe295_f140_11ea_a0fb_c0e4341b61derow17_col3\" class=\"data row17 col3\" >60</td>\n",
       "                        <td id=\"T_aa1fe295_f140_11ea_a0fb_c0e4341b61derow17_col4\" class=\"data row17 col4\" >19,1146</td>\n",
       "                        <td id=\"T_aa1fe295_f140_11ea_a0fb_c0e4341b61derow17_col5\" class=\"data row17 col5\" >6</td>\n",
       "            </tr>\n",
       "            <tr>\n",
       "                        <th id=\"T_aa1fe295_f140_11ea_a0fb_c0e4341b61delevel0_row18\" class=\"row_heading level0 row18\" >21</th>\n",
       "                        <td id=\"T_aa1fe295_f140_11ea_a0fb_c0e4341b61derow18_col0\" class=\"data row18 col0\" >40</td>\n",
       "                        <td id=\"T_aa1fe295_f140_11ea_a0fb_c0e4341b61derow18_col1\" class=\"data row18 col1\" >0</td>\n",
       "                        <td id=\"T_aa1fe295_f140_11ea_a0fb_c0e4341b61derow18_col2\" class=\"data row18 col2\" >13,3333</td>\n",
       "                        <td id=\"T_aa1fe295_f140_11ea_a0fb_c0e4341b61derow18_col3\" class=\"data row18 col3\" >28</td>\n",
       "                        <td id=\"T_aa1fe295_f140_11ea_a0fb_c0e4341b61derow18_col4\" class=\"data row18 col4\" >14,0475</td>\n",
       "                        <td id=\"T_aa1fe295_f140_11ea_a0fb_c0e4341b61derow18_col5\" class=\"data row18 col5\" >3</td>\n",
       "            </tr>\n",
       "            <tr>\n",
       "                        <th id=\"T_aa1fe295_f140_11ea_a0fb_c0e4341b61delevel0_row19\" class=\"row_heading level0 row19\" >22</th>\n",
       "                        <td id=\"T_aa1fe295_f140_11ea_a0fb_c0e4341b61derow19_col0\" class=\"data row19 col0\" >99</td>\n",
       "                        <td id=\"T_aa1fe295_f140_11ea_a0fb_c0e4341b61derow19_col1\" class=\"data row19 col1\" >0</td>\n",
       "                        <td id=\"T_aa1fe295_f140_11ea_a0fb_c0e4341b61derow19_col2\" class=\"data row19 col2\" >24,75</td>\n",
       "                        <td id=\"T_aa1fe295_f140_11ea_a0fb_c0e4341b61derow19_col3\" class=\"data row19 col3\" >94</td>\n",
       "                        <td id=\"T_aa1fe295_f140_11ea_a0fb_c0e4341b61derow19_col4\" class=\"data row19 col4\" >46,1979</td>\n",
       "                        <td id=\"T_aa1fe295_f140_11ea_a0fb_c0e4341b61derow19_col5\" class=\"data row19 col5\" >4</td>\n",
       "            </tr>\n",
       "            <tr>\n",
       "                        <th id=\"T_aa1fe295_f140_11ea_a0fb_c0e4341b61delevel0_row20\" class=\"row_heading level0 row20\" >23</th>\n",
       "                        <td id=\"T_aa1fe295_f140_11ea_a0fb_c0e4341b61derow20_col0\" class=\"data row20 col0\" >3</td>\n",
       "                        <td id=\"T_aa1fe295_f140_11ea_a0fb_c0e4341b61derow20_col1\" class=\"data row20 col1\" >0</td>\n",
       "                        <td id=\"T_aa1fe295_f140_11ea_a0fb_c0e4341b61derow20_col2\" class=\"data row20 col2\" >1,5</td>\n",
       "                        <td id=\"T_aa1fe295_f140_11ea_a0fb_c0e4341b61derow20_col3\" class=\"data row20 col3\" >3</td>\n",
       "                        <td id=\"T_aa1fe295_f140_11ea_a0fb_c0e4341b61derow20_col4\" class=\"data row20 col4\" >2,12132</td>\n",
       "                        <td id=\"T_aa1fe295_f140_11ea_a0fb_c0e4341b61derow20_col5\" class=\"data row20 col5\" >2</td>\n",
       "            </tr>\n",
       "    </tbody></table>"
      ],
      "text/plain": [
       "<pandas.io.formats.style.Styler at 0x1e7073c8610>"
      ]
     },
     "execution_count": 11,
     "metadata": {},
     "output_type": "execute_result"
    }
   ],
   "source": [
    "# Caracterización estadística básica de las llegadas de pacientes por hora del día\n",
    "t_hour.style.format(format_dict)"
   ]
  },
  {
   "cell_type": "markdown",
   "metadata": {},
   "source": [
    "### Analizar diferencias entre las llegadas"
   ]
  },
  {
   "cell_type": "code",
   "execution_count": 12,
   "metadata": {},
   "outputs": [
    {
     "data": {
      "image/png": "[encoded data removed]",
      "text/plain": [
       "<Figure size 432x288 with 1 Axes>"
      ]
     },
     "metadata": {
      "needs_background": "light"
     },
     "output_type": "display_data"
    }
   ],
   "source": [
    "diffs_tup = main.entry_diffs(d_t, [999], 'es', main.MESSAGES, clean.COLUMN_NAMES, False)\n",
    "diffs, diffs_df = diffs_tup[0], diffs_tup[1]"
   ]
  },
  {
   "cell_type": "code",
   "execution_count": 13,
   "metadata": {},
   "outputs": [
    {
     "data": {
      "text/html": [
       "<style  type=\"text/css\" >\n",
       "</style><table id=\"T_aa4ff5d0_f140_11ea_bc27_c0e4341b61de\" ><thead>    <tr>        <th class=\"blank level0\" ></th>        <th class=\"col_heading level0 col0\" >divisiones</th>        <th class=\"col_heading level0 col1\" >conteo</th>    </tr></thead><tbody>\n",
       "                <tr>\n",
       "                        <th id=\"T_aa4ff5d0_f140_11ea_bc27_c0e4341b61delevel0_row0\" class=\"row_heading level0 row0\" >0</th>\n",
       "                        <td id=\"T_aa4ff5d0_f140_11ea_bc27_c0e4341b61derow0_col0\" class=\"data row0 col0\" >3</td>\n",
       "                        <td id=\"T_aa4ff5d0_f140_11ea_bc27_c0e4341b61derow0_col1\" class=\"data row0 col1\" >1.098</td>\n",
       "            </tr>\n",
       "            <tr>\n",
       "                        <th id=\"T_aa4ff5d0_f140_11ea_bc27_c0e4341b61delevel0_row1\" class=\"row_heading level0 row1\" >1</th>\n",
       "                        <td id=\"T_aa4ff5d0_f140_11ea_bc27_c0e4341b61derow1_col0\" class=\"data row1 col0\" >6</td>\n",
       "                        <td id=\"T_aa4ff5d0_f140_11ea_bc27_c0e4341b61derow1_col1\" class=\"data row1 col1\" >474</td>\n",
       "            </tr>\n",
       "            <tr>\n",
       "                        <th id=\"T_aa4ff5d0_f140_11ea_bc27_c0e4341b61delevel0_row2\" class=\"row_heading level0 row2\" >2</th>\n",
       "                        <td id=\"T_aa4ff5d0_f140_11ea_bc27_c0e4341b61derow2_col0\" class=\"data row2 col0\" >9</td>\n",
       "                        <td id=\"T_aa4ff5d0_f140_11ea_bc27_c0e4341b61derow2_col1\" class=\"data row2 col1\" >225</td>\n",
       "            </tr>\n",
       "            <tr>\n",
       "                        <th id=\"T_aa4ff5d0_f140_11ea_bc27_c0e4341b61delevel0_row3\" class=\"row_heading level0 row3\" >3</th>\n",
       "                        <td id=\"T_aa4ff5d0_f140_11ea_bc27_c0e4341b61derow3_col0\" class=\"data row3 col0\" >12</td>\n",
       "                        <td id=\"T_aa4ff5d0_f140_11ea_bc27_c0e4341b61derow3_col1\" class=\"data row3 col1\" >143</td>\n",
       "            </tr>\n",
       "            <tr>\n",
       "                        <th id=\"T_aa4ff5d0_f140_11ea_bc27_c0e4341b61delevel0_row4\" class=\"row_heading level0 row4\" >4</th>\n",
       "                        <td id=\"T_aa4ff5d0_f140_11ea_bc27_c0e4341b61derow4_col0\" class=\"data row4 col0\" >15</td>\n",
       "                        <td id=\"T_aa4ff5d0_f140_11ea_bc27_c0e4341b61derow4_col1\" class=\"data row4 col1\" >74</td>\n",
       "            </tr>\n",
       "            <tr>\n",
       "                        <th id=\"T_aa4ff5d0_f140_11ea_bc27_c0e4341b61delevel0_row5\" class=\"row_heading level0 row5\" >5</th>\n",
       "                        <td id=\"T_aa4ff5d0_f140_11ea_bc27_c0e4341b61derow5_col0\" class=\"data row5 col0\" >18</td>\n",
       "                        <td id=\"T_aa4ff5d0_f140_11ea_bc27_c0e4341b61derow5_col1\" class=\"data row5 col1\" >38</td>\n",
       "            </tr>\n",
       "            <tr>\n",
       "                        <th id=\"T_aa4ff5d0_f140_11ea_bc27_c0e4341b61delevel0_row6\" class=\"row_heading level0 row6\" >6</th>\n",
       "                        <td id=\"T_aa4ff5d0_f140_11ea_bc27_c0e4341b61derow6_col0\" class=\"data row6 col0\" >21</td>\n",
       "                        <td id=\"T_aa4ff5d0_f140_11ea_bc27_c0e4341b61derow6_col1\" class=\"data row6 col1\" >32</td>\n",
       "            </tr>\n",
       "            <tr>\n",
       "                        <th id=\"T_aa4ff5d0_f140_11ea_bc27_c0e4341b61delevel0_row7\" class=\"row_heading level0 row7\" >7</th>\n",
       "                        <td id=\"T_aa4ff5d0_f140_11ea_bc27_c0e4341b61derow7_col0\" class=\"data row7 col0\" >24</td>\n",
       "                        <td id=\"T_aa4ff5d0_f140_11ea_bc27_c0e4341b61derow7_col1\" class=\"data row7 col1\" >24</td>\n",
       "            </tr>\n",
       "            <tr>\n",
       "                        <th id=\"T_aa4ff5d0_f140_11ea_bc27_c0e4341b61delevel0_row8\" class=\"row_heading level0 row8\" >8</th>\n",
       "                        <td id=\"T_aa4ff5d0_f140_11ea_bc27_c0e4341b61derow8_col0\" class=\"data row8 col0\" >27</td>\n",
       "                        <td id=\"T_aa4ff5d0_f140_11ea_bc27_c0e4341b61derow8_col1\" class=\"data row8 col1\" >19</td>\n",
       "            </tr>\n",
       "            <tr>\n",
       "                        <th id=\"T_aa4ff5d0_f140_11ea_bc27_c0e4341b61delevel0_row9\" class=\"row_heading level0 row9\" >9</th>\n",
       "                        <td id=\"T_aa4ff5d0_f140_11ea_bc27_c0e4341b61derow9_col0\" class=\"data row9 col0\" >30</td>\n",
       "                        <td id=\"T_aa4ff5d0_f140_11ea_bc27_c0e4341b61derow9_col1\" class=\"data row9 col1\" >21</td>\n",
       "            </tr>\n",
       "            <tr>\n",
       "                        <th id=\"T_aa4ff5d0_f140_11ea_bc27_c0e4341b61delevel0_row10\" class=\"row_heading level0 row10\" >10</th>\n",
       "                        <td id=\"T_aa4ff5d0_f140_11ea_bc27_c0e4341b61derow10_col0\" class=\"data row10 col0\" >33</td>\n",
       "                        <td id=\"T_aa4ff5d0_f140_11ea_bc27_c0e4341b61derow10_col1\" class=\"data row10 col1\" >9</td>\n",
       "            </tr>\n",
       "            <tr>\n",
       "                        <th id=\"T_aa4ff5d0_f140_11ea_bc27_c0e4341b61delevel0_row11\" class=\"row_heading level0 row11\" >11</th>\n",
       "                        <td id=\"T_aa4ff5d0_f140_11ea_bc27_c0e4341b61derow11_col0\" class=\"data row11 col0\" >36</td>\n",
       "                        <td id=\"T_aa4ff5d0_f140_11ea_bc27_c0e4341b61derow11_col1\" class=\"data row11 col1\" >11</td>\n",
       "            </tr>\n",
       "            <tr>\n",
       "                        <th id=\"T_aa4ff5d0_f140_11ea_bc27_c0e4341b61delevel0_row12\" class=\"row_heading level0 row12\" >12</th>\n",
       "                        <td id=\"T_aa4ff5d0_f140_11ea_bc27_c0e4341b61derow12_col0\" class=\"data row12 col0\" >39</td>\n",
       "                        <td id=\"T_aa4ff5d0_f140_11ea_bc27_c0e4341b61derow12_col1\" class=\"data row12 col1\" >3</td>\n",
       "            </tr>\n",
       "            <tr>\n",
       "                        <th id=\"T_aa4ff5d0_f140_11ea_bc27_c0e4341b61delevel0_row13\" class=\"row_heading level0 row13\" >13</th>\n",
       "                        <td id=\"T_aa4ff5d0_f140_11ea_bc27_c0e4341b61derow13_col0\" class=\"data row13 col0\" >42</td>\n",
       "                        <td id=\"T_aa4ff5d0_f140_11ea_bc27_c0e4341b61derow13_col1\" class=\"data row13 col1\" >6</td>\n",
       "            </tr>\n",
       "            <tr>\n",
       "                        <th id=\"T_aa4ff5d0_f140_11ea_bc27_c0e4341b61delevel0_row14\" class=\"row_heading level0 row14\" >14</th>\n",
       "                        <td id=\"T_aa4ff5d0_f140_11ea_bc27_c0e4341b61derow14_col0\" class=\"data row14 col0\" >45</td>\n",
       "                        <td id=\"T_aa4ff5d0_f140_11ea_bc27_c0e4341b61derow14_col1\" class=\"data row14 col1\" >6</td>\n",
       "            </tr>\n",
       "            <tr>\n",
       "                        <th id=\"T_aa4ff5d0_f140_11ea_bc27_c0e4341b61delevel0_row15\" class=\"row_heading level0 row15\" >15</th>\n",
       "                        <td id=\"T_aa4ff5d0_f140_11ea_bc27_c0e4341b61derow15_col0\" class=\"data row15 col0\" >48</td>\n",
       "                        <td id=\"T_aa4ff5d0_f140_11ea_bc27_c0e4341b61derow15_col1\" class=\"data row15 col1\" >4</td>\n",
       "            </tr>\n",
       "            <tr>\n",
       "                        <th id=\"T_aa4ff5d0_f140_11ea_bc27_c0e4341b61delevel0_row16\" class=\"row_heading level0 row16\" >16</th>\n",
       "                        <td id=\"T_aa4ff5d0_f140_11ea_bc27_c0e4341b61derow16_col0\" class=\"data row16 col0\" >51</td>\n",
       "                        <td id=\"T_aa4ff5d0_f140_11ea_bc27_c0e4341b61derow16_col1\" class=\"data row16 col1\" >4</td>\n",
       "            </tr>\n",
       "            <tr>\n",
       "                        <th id=\"T_aa4ff5d0_f140_11ea_bc27_c0e4341b61delevel0_row17\" class=\"row_heading level0 row17\" >17</th>\n",
       "                        <td id=\"T_aa4ff5d0_f140_11ea_bc27_c0e4341b61derow17_col0\" class=\"data row17 col0\" >54</td>\n",
       "                        <td id=\"T_aa4ff5d0_f140_11ea_bc27_c0e4341b61derow17_col1\" class=\"data row17 col1\" >2</td>\n",
       "            </tr>\n",
       "            <tr>\n",
       "                        <th id=\"T_aa4ff5d0_f140_11ea_bc27_c0e4341b61delevel0_row18\" class=\"row_heading level0 row18\" >18</th>\n",
       "                        <td id=\"T_aa4ff5d0_f140_11ea_bc27_c0e4341b61derow18_col0\" class=\"data row18 col0\" >57</td>\n",
       "                        <td id=\"T_aa4ff5d0_f140_11ea_bc27_c0e4341b61derow18_col1\" class=\"data row18 col1\" >3</td>\n",
       "            </tr>\n",
       "            <tr>\n",
       "                        <th id=\"T_aa4ff5d0_f140_11ea_bc27_c0e4341b61delevel0_row19\" class=\"row_heading level0 row19\" >19</th>\n",
       "                        <td id=\"T_aa4ff5d0_f140_11ea_bc27_c0e4341b61derow19_col0\" class=\"data row19 col0\" >60</td>\n",
       "                        <td id=\"T_aa4ff5d0_f140_11ea_bc27_c0e4341b61derow19_col1\" class=\"data row19 col1\" >3</td>\n",
       "            </tr>\n",
       "            <tr>\n",
       "                        <th id=\"T_aa4ff5d0_f140_11ea_bc27_c0e4341b61delevel0_row20\" class=\"row_heading level0 row20\" >Total</th>\n",
       "                        <td id=\"T_aa4ff5d0_f140_11ea_bc27_c0e4341b61derow20_col0\" class=\"data row20 col0\" >630</td>\n",
       "                        <td id=\"T_aa4ff5d0_f140_11ea_bc27_c0e4341b61derow20_col1\" class=\"data row20 col1\" >2.199</td>\n",
       "            </tr>\n",
       "    </tbody></table>"
      ],
      "text/plain": [
       "<pandas.io.formats.style.Styler at 0x1e707295190>"
      ]
     },
     "execution_count": 13,
     "metadata": {},
     "output_type": "execute_result"
    }
   ],
   "source": [
    "# Mostrar las categorías del histograma\n",
    "diffs.style.format(format_dict)\n",
    "diffs.append(diffs.sum(numeric_only=True).rename('Total')).style.format(format_dict)"
   ]
  },
  {
   "cell_type": "code",
   "execution_count": 14,
   "metadata": {},
   "outputs": [
    {
     "data": {
      "text/html": [
       "<style  type=\"text/css\" >\n",
       "</style><table id=\"T_aa54eba3_f140_11ea_af5d_c0e4341b61de\" ><thead>    <tr>        <th class=\"blank level0\" ></th>        <th class=\"col_heading level0 col0\" >intervalo</th>    </tr></thead><tbody>\n",
       "                <tr>\n",
       "                        <th id=\"T_aa54eba3_f140_11ea_af5d_c0e4341b61delevel0_row0\" class=\"row_heading level0 row0\" >count</th>\n",
       "                        <td id=\"T_aa54eba3_f140_11ea_af5d_c0e4341b61derow0_col0\" class=\"data row0 col0\" >2.199</td>\n",
       "            </tr>\n",
       "            <tr>\n",
       "                        <th id=\"T_aa54eba3_f140_11ea_af5d_c0e4341b61delevel0_row1\" class=\"row_heading level0 row1\" >mean</th>\n",
       "                        <td id=\"T_aa54eba3_f140_11ea_af5d_c0e4341b61derow1_col0\" class=\"data row1 col0\" >5,20236</td>\n",
       "            </tr>\n",
       "            <tr>\n",
       "                        <th id=\"T_aa54eba3_f140_11ea_af5d_c0e4341b61delevel0_row2\" class=\"row_heading level0 row2\" >std</th>\n",
       "                        <td id=\"T_aa54eba3_f140_11ea_af5d_c0e4341b61derow2_col0\" class=\"data row2 col0\" >7,83981</td>\n",
       "            </tr>\n",
       "            <tr>\n",
       "                        <th id=\"T_aa54eba3_f140_11ea_af5d_c0e4341b61delevel0_row3\" class=\"row_heading level0 row3\" >min</th>\n",
       "                        <td id=\"T_aa54eba3_f140_11ea_af5d_c0e4341b61derow3_col0\" class=\"data row3 col0\" >0</td>\n",
       "            </tr>\n",
       "            <tr>\n",
       "                        <th id=\"T_aa54eba3_f140_11ea_af5d_c0e4341b61delevel0_row4\" class=\"row_heading level0 row4\" >25%</th>\n",
       "                        <td id=\"T_aa54eba3_f140_11ea_af5d_c0e4341b61derow4_col0\" class=\"data row4 col0\" >1</td>\n",
       "            </tr>\n",
       "            <tr>\n",
       "                        <th id=\"T_aa54eba3_f140_11ea_af5d_c0e4341b61delevel0_row5\" class=\"row_heading level0 row5\" >50%</th>\n",
       "                        <td id=\"T_aa54eba3_f140_11ea_af5d_c0e4341b61derow5_col0\" class=\"data row5 col0\" >3</td>\n",
       "            </tr>\n",
       "            <tr>\n",
       "                        <th id=\"T_aa54eba3_f140_11ea_af5d_c0e4341b61delevel0_row6\" class=\"row_heading level0 row6\" >75%</th>\n",
       "                        <td id=\"T_aa54eba3_f140_11ea_af5d_c0e4341b61derow6_col0\" class=\"data row6 col0\" >6</td>\n",
       "            </tr>\n",
       "            <tr>\n",
       "                        <th id=\"T_aa54eba3_f140_11ea_af5d_c0e4341b61delevel0_row7\" class=\"row_heading level0 row7\" >max</th>\n",
       "                        <td id=\"T_aa54eba3_f140_11ea_af5d_c0e4341b61derow7_col0\" class=\"data row7 col0\" >60</td>\n",
       "            </tr>\n",
       "    </tbody></table>"
      ],
      "text/plain": [
       "<pandas.io.formats.style.Styler at 0x1e707381ac0>"
      ]
     },
     "execution_count": 14,
     "metadata": {},
     "output_type": "execute_result"
    }
   ],
   "source": [
    "diffs_df.describe().style.format(format_dict)"
   ]
  },
  {
   "cell_type": "markdown",
   "metadata": {},
   "source": [
    "### Gráficas de cantidad de pacientes según departamento"
   ]
  },
  {
   "cell_type": "code",
   "execution_count": 15,
   "metadata": {},
   "outputs": [],
   "source": [
    "# Generar los dataframes por departamento\n",
    "COLUMNS_2 = ['dia_semana', 'hora']\n",
    "COLUMN_CRITERIA = 'departmento'\n",
    "COLUMN_CRITERIA_CATEGORIES = clean.read_txt('departments.txt', False)\n",
    "\n",
    "dept_dfs = main.timedeltas_bars_times_by_criteria( d_t, COLUMNS_2,[999], COLUMN_CRITERIA, COLUMN_CRITERIA_CATEGORIES,\n",
    "                                                    'es', main.MESSAGES, clean.COLUMN_NAMES, False, False)\n"
   ]
  },
  {
   "cell_type": "code",
   "execution_count": 16,
   "metadata": {},
   "outputs": [],
   "source": [
    "# Función para mostrar un departamento a la vez\n",
    "def show_department(i):\n",
    "    \"\"\"\n",
    "    i: índice de la información empaquetada en la lista de dataframes de los departamentos\n",
    "    Mostrará un histograma e información estadística\n",
    "    \"\"\"\n",
    "    print(dept_dfs[i][1])\n",
    "    dept_dfs[i][2]\n",
    "\n",
    "    d_sub, title, x_axisname, y_axisname, categories = dept_dfs[i][3][0], dept_dfs[i][3][1], dept_dfs[i][3][2], dept_dfs[i][3][3], dept_dfs[i][3][4]\n",
    "\n",
    "    ax1 = clean.build_count_barchart(d_sub, title, x_axisname, y_axisname, categories, False)\n",
    "    clean.customizechart(ax1, title, x_axisname, y_axisname)\n",
    "\n",
    "    return d_sub\n",
    "    "
   ]
  },
  {
   "cell_type": "code",
   "execution_count": 17,
   "metadata": {},
   "outputs": [
    {
     "name": "stdout",
     "output_type": "stream",
     "text": [
      "{19: 'Institute of Hematology and Bone Marrow Transplant'}\n"
     ]
    },
    {
     "data": {
      "text/html": [
       "<style  type=\"text/css\" >\n",
       "</style><table id=\"T_ab1d917c_f140_11ea_92b7_c0e4341b61de\" ><thead>    <tr>        <th class=\"blank level0\" ></th>        <th class=\"col_heading level0 col0\" >sum</th>        <th class=\"col_heading level0 col1\" >min</th>        <th class=\"col_heading level0 col2\" >mean</th>        <th class=\"col_heading level0 col3\" >max</th>        <th class=\"col_heading level0 col4\" >std</th>    </tr>    <tr>        <th class=\"index_name level0\" >dia_semana</th>        <th class=\"blank\" ></th>        <th class=\"blank\" ></th>        <th class=\"blank\" ></th>        <th class=\"blank\" ></th>        <th class=\"blank\" ></th>    </tr></thead><tbody>\n",
       "                <tr>\n",
       "                        <th id=\"T_ab1d917c_f140_11ea_92b7_c0e4341b61delevel0_row0\" class=\"row_heading level0 row0\" >1</th>\n",
       "                        <td id=\"T_ab1d917c_f140_11ea_92b7_c0e4341b61derow0_col0\" class=\"data row0 col0\" >174</td>\n",
       "                        <td id=\"T_ab1d917c_f140_11ea_92b7_c0e4341b61derow0_col1\" class=\"data row0 col1\" >3</td>\n",
       "                        <td id=\"T_ab1d917c_f140_11ea_92b7_c0e4341b61derow0_col2\" class=\"data row0 col2\" >21,75</td>\n",
       "                        <td id=\"T_ab1d917c_f140_11ea_92b7_c0e4341b61derow0_col3\" class=\"data row0 col3\" >94</td>\n",
       "                        <td id=\"T_ab1d917c_f140_11ea_92b7_c0e4341b61derow0_col4\" class=\"data row0 col4\" >32,5785</td>\n",
       "            </tr>\n",
       "            <tr>\n",
       "                        <th id=\"T_ab1d917c_f140_11ea_92b7_c0e4341b61delevel0_row1\" class=\"row_heading level0 row1\" >2</th>\n",
       "                        <td id=\"T_ab1d917c_f140_11ea_92b7_c0e4341b61derow1_col0\" class=\"data row1 col0\" >187</td>\n",
       "                        <td id=\"T_ab1d917c_f140_11ea_92b7_c0e4341b61derow1_col1\" class=\"data row1 col1\" >4</td>\n",
       "                        <td id=\"T_ab1d917c_f140_11ea_92b7_c0e4341b61derow1_col2\" class=\"data row1 col2\" >62,3333</td>\n",
       "                        <td id=\"T_ab1d917c_f140_11ea_92b7_c0e4341b61derow1_col3\" class=\"data row1 col3\" >99</td>\n",
       "                        <td id=\"T_ab1d917c_f140_11ea_92b7_c0e4341b61derow1_col4\" class=\"data row1 col4\" >51,0718</td>\n",
       "            </tr>\n",
       "            <tr>\n",
       "                        <th id=\"T_ab1d917c_f140_11ea_92b7_c0e4341b61delevel0_row2\" class=\"row_heading level0 row2\" >3</th>\n",
       "                        <td id=\"T_ab1d917c_f140_11ea_92b7_c0e4341b61derow2_col0\" class=\"data row2 col0\" >51</td>\n",
       "                        <td id=\"T_ab1d917c_f140_11ea_92b7_c0e4341b61derow2_col1\" class=\"data row2 col1\" >6</td>\n",
       "                        <td id=\"T_ab1d917c_f140_11ea_92b7_c0e4341b61derow2_col2\" class=\"data row2 col2\" >12,75</td>\n",
       "                        <td id=\"T_ab1d917c_f140_11ea_92b7_c0e4341b61derow2_col3\" class=\"data row2 col3\" >25</td>\n",
       "                        <td id=\"T_ab1d917c_f140_11ea_92b7_c0e4341b61derow2_col4\" class=\"data row2 col4\" >8,73212</td>\n",
       "            </tr>\n",
       "            <tr>\n",
       "                        <th id=\"T_ab1d917c_f140_11ea_92b7_c0e4341b61delevel0_row3\" class=\"row_heading level0 row3\" >4</th>\n",
       "                        <td id=\"T_ab1d917c_f140_11ea_92b7_c0e4341b61derow3_col0\" class=\"data row3 col0\" >17</td>\n",
       "                        <td id=\"T_ab1d917c_f140_11ea_92b7_c0e4341b61derow3_col1\" class=\"data row3 col1\" >17</td>\n",
       "                        <td id=\"T_ab1d917c_f140_11ea_92b7_c0e4341b61derow3_col2\" class=\"data row3 col2\" >17</td>\n",
       "                        <td id=\"T_ab1d917c_f140_11ea_92b7_c0e4341b61derow3_col3\" class=\"data row3 col3\" >17</td>\n",
       "                        <td id=\"T_ab1d917c_f140_11ea_92b7_c0e4341b61derow3_col4\" class=\"data row3 col4\" >nan</td>\n",
       "            </tr>\n",
       "            <tr>\n",
       "                        <th id=\"T_ab1d917c_f140_11ea_92b7_c0e4341b61delevel0_row4\" class=\"row_heading level0 row4\" >7</th>\n",
       "                        <td id=\"T_ab1d917c_f140_11ea_92b7_c0e4341b61derow4_col0\" class=\"data row4 col0\" >244</td>\n",
       "                        <td id=\"T_ab1d917c_f140_11ea_92b7_c0e4341b61derow4_col1\" class=\"data row4 col1\" >4</td>\n",
       "                        <td id=\"T_ab1d917c_f140_11ea_92b7_c0e4341b61derow4_col2\" class=\"data row4 col2\" >22,1818</td>\n",
       "                        <td id=\"T_ab1d917c_f140_11ea_92b7_c0e4341b61derow4_col3\" class=\"data row4 col3\" >76</td>\n",
       "                        <td id=\"T_ab1d917c_f140_11ea_92b7_c0e4341b61derow4_col4\" class=\"data row4 col4\" >20,9324</td>\n",
       "            </tr>\n",
       "    </tbody></table>"
      ],
      "text/plain": [
       "<pandas.io.formats.style.Styler at 0x1e7084f77c0>"
      ]
     },
     "execution_count": 17,
     "metadata": {},
     "output_type": "execute_result"
    },
    {
     "data": {
      "image/png": "[encoded data removed]",
      "text/plain": [
       "<Figure size 432x288 with 1 Axes>"
      ]
     },
     "metadata": {
      "needs_background": "light"
     },
     "output_type": "display_data"
    }
   ],
   "source": [
    "show_department(80).groupby('dia_semana')['duración'].agg(['sum', 'min', 'mean', 'max', 'std']).style.format(format_dict)\n"
   ]
  },
  {
   "cell_type": "code",
   "execution_count": 18,
   "metadata": {},
   "outputs": [
    {
     "name": "stdout",
     "output_type": "stream",
     "text": [
      "{134: 'Ultrasound Unit'}\n"
     ]
    },
    {
     "data": {
      "text/html": [
       "<style  type=\"text/css\" >\n",
       "</style><table id=\"T_ab490f38_f140_11ea_9a1b_c0e4341b61de\" ><thead>    <tr>        <th class=\"blank level0\" ></th>        <th class=\"col_heading level0 col0\" >sum</th>        <th class=\"col_heading level0 col1\" >min</th>        <th class=\"col_heading level0 col2\" >mean</th>        <th class=\"col_heading level0 col3\" >max</th>        <th class=\"col_heading level0 col4\" >std</th>    </tr>    <tr>        <th class=\"index_name level0\" >dia_semana</th>        <th class=\"blank\" ></th>        <th class=\"blank\" ></th>        <th class=\"blank\" ></th>        <th class=\"blank\" ></th>        <th class=\"blank\" ></th>    </tr></thead><tbody>\n",
       "                <tr>\n",
       "                        <th id=\"T_ab490f38_f140_11ea_9a1b_c0e4341b61delevel0_row0\" class=\"row_heading level0 row0\" >1</th>\n",
       "                        <td id=\"T_ab490f38_f140_11ea_9a1b_c0e4341b61derow0_col0\" class=\"data row0 col0\" >4.436</td>\n",
       "                        <td id=\"T_ab490f38_f140_11ea_9a1b_c0e4341b61derow0_col1\" class=\"data row0 col1\" >0</td>\n",
       "                        <td id=\"T_ab490f38_f140_11ea_9a1b_c0e4341b61derow0_col2\" class=\"data row0 col2\" >43,9208</td>\n",
       "                        <td id=\"T_ab490f38_f140_11ea_9a1b_c0e4341b61derow0_col3\" class=\"data row0 col3\" >113</td>\n",
       "                        <td id=\"T_ab490f38_f140_11ea_9a1b_c0e4341b61derow0_col4\" class=\"data row0 col4\" >30,1369</td>\n",
       "            </tr>\n",
       "            <tr>\n",
       "                        <th id=\"T_ab490f38_f140_11ea_9a1b_c0e4341b61delevel0_row1\" class=\"row_heading level0 row1\" >2</th>\n",
       "                        <td id=\"T_ab490f38_f140_11ea_9a1b_c0e4341b61derow1_col0\" class=\"data row1 col0\" >2.297</td>\n",
       "                        <td id=\"T_ab490f38_f140_11ea_9a1b_c0e4341b61derow1_col1\" class=\"data row1 col1\" >0</td>\n",
       "                        <td id=\"T_ab490f38_f140_11ea_9a1b_c0e4341b61derow1_col2\" class=\"data row1 col2\" >25,5222</td>\n",
       "                        <td id=\"T_ab490f38_f140_11ea_9a1b_c0e4341b61derow1_col3\" class=\"data row1 col3\" >78</td>\n",
       "                        <td id=\"T_ab490f38_f140_11ea_9a1b_c0e4341b61derow1_col4\" class=\"data row1 col4\" >19,9917</td>\n",
       "            </tr>\n",
       "            <tr>\n",
       "                        <th id=\"T_ab490f38_f140_11ea_9a1b_c0e4341b61delevel0_row2\" class=\"row_heading level0 row2\" >3</th>\n",
       "                        <td id=\"T_ab490f38_f140_11ea_9a1b_c0e4341b61derow2_col0\" class=\"data row2 col0\" >397</td>\n",
       "                        <td id=\"T_ab490f38_f140_11ea_9a1b_c0e4341b61derow2_col1\" class=\"data row2 col1\" >2</td>\n",
       "                        <td id=\"T_ab490f38_f140_11ea_9a1b_c0e4341b61derow2_col2\" class=\"data row2 col2\" >39,7</td>\n",
       "                        <td id=\"T_ab490f38_f140_11ea_9a1b_c0e4341b61derow2_col3\" class=\"data row2 col3\" >87</td>\n",
       "                        <td id=\"T_ab490f38_f140_11ea_9a1b_c0e4341b61derow2_col4\" class=\"data row2 col4\" >28,3982</td>\n",
       "            </tr>\n",
       "            <tr>\n",
       "                        <th id=\"T_ab490f38_f140_11ea_9a1b_c0e4341b61delevel0_row3\" class=\"row_heading level0 row3\" >4</th>\n",
       "                        <td id=\"T_ab490f38_f140_11ea_9a1b_c0e4341b61derow3_col0\" class=\"data row3 col0\" >186</td>\n",
       "                        <td id=\"T_ab490f38_f140_11ea_9a1b_c0e4341b61derow3_col1\" class=\"data row3 col1\" >0</td>\n",
       "                        <td id=\"T_ab490f38_f140_11ea_9a1b_c0e4341b61derow3_col2\" class=\"data row3 col2\" >7,44</td>\n",
       "                        <td id=\"T_ab490f38_f140_11ea_9a1b_c0e4341b61derow3_col3\" class=\"data row3 col3\" >41</td>\n",
       "                        <td id=\"T_ab490f38_f140_11ea_9a1b_c0e4341b61derow3_col4\" class=\"data row3 col4\" >9,94602</td>\n",
       "            </tr>\n",
       "            <tr>\n",
       "                        <th id=\"T_ab490f38_f140_11ea_9a1b_c0e4341b61delevel0_row4\" class=\"row_heading level0 row4\" >5</th>\n",
       "                        <td id=\"T_ab490f38_f140_11ea_9a1b_c0e4341b61derow4_col0\" class=\"data row4 col0\" >177</td>\n",
       "                        <td id=\"T_ab490f38_f140_11ea_9a1b_c0e4341b61derow4_col1\" class=\"data row4 col1\" >177</td>\n",
       "                        <td id=\"T_ab490f38_f140_11ea_9a1b_c0e4341b61derow4_col2\" class=\"data row4 col2\" >177</td>\n",
       "                        <td id=\"T_ab490f38_f140_11ea_9a1b_c0e4341b61derow4_col3\" class=\"data row4 col3\" >177</td>\n",
       "                        <td id=\"T_ab490f38_f140_11ea_9a1b_c0e4341b61derow4_col4\" class=\"data row4 col4\" >nan</td>\n",
       "            </tr>\n",
       "            <tr>\n",
       "                        <th id=\"T_ab490f38_f140_11ea_9a1b_c0e4341b61delevel0_row5\" class=\"row_heading level0 row5\" >7</th>\n",
       "                        <td id=\"T_ab490f38_f140_11ea_9a1b_c0e4341b61derow5_col0\" class=\"data row5 col0\" >594</td>\n",
       "                        <td id=\"T_ab490f38_f140_11ea_9a1b_c0e4341b61derow5_col1\" class=\"data row5 col1\" >0</td>\n",
       "                        <td id=\"T_ab490f38_f140_11ea_9a1b_c0e4341b61derow5_col2\" class=\"data row5 col2\" >22,8462</td>\n",
       "                        <td id=\"T_ab490f38_f140_11ea_9a1b_c0e4341b61derow5_col3\" class=\"data row5 col3\" >53</td>\n",
       "                        <td id=\"T_ab490f38_f140_11ea_9a1b_c0e4341b61derow5_col4\" class=\"data row5 col4\" >15,3198</td>\n",
       "            </tr>\n",
       "    </tbody></table>"
      ],
      "text/plain": [
       "<pandas.io.formats.style.Styler at 0x1e70855a310>"
      ]
     },
     "execution_count": 18,
     "metadata": {},
     "output_type": "execute_result"
    },
    {
     "data": {
      "image/png": "[encoded data removed]",
      "text/plain": [
       "<Figure size 432x288 with 1 Axes>"
      ]
     },
     "metadata": {
      "needs_background": "light"
     },
     "output_type": "display_data"
    }
   ],
   "source": [
    "show_department(121).groupby('dia_semana')['duración'].agg(['sum', 'min', 'mean', 'max', 'std']).style.format(format_dict)"
   ]
  },
  {
   "cell_type": "code",
   "execution_count": 19,
   "metadata": {},
   "outputs": [
    {
     "name": "stdout",
     "output_type": "stream",
     "text": [
      "{71: 'Department of Neurosurgery'}\n"
     ]
    },
    {
     "data": {
      "text/html": [
       "<style  type=\"text/css\" >\n",
       "</style><table id=\"T_ab743ef1_f140_11ea_b36a_c0e4341b61de\" ><thead>    <tr>        <th class=\"blank level0\" ></th>        <th class=\"col_heading level0 col0\" >sum</th>        <th class=\"col_heading level0 col1\" >min</th>        <th class=\"col_heading level0 col2\" >mean</th>        <th class=\"col_heading level0 col3\" >max</th>        <th class=\"col_heading level0 col4\" >std</th>    </tr>    <tr>        <th class=\"index_name level0\" >dia_semana</th>        <th class=\"blank\" ></th>        <th class=\"blank\" ></th>        <th class=\"blank\" ></th>        <th class=\"blank\" ></th>        <th class=\"blank\" ></th>    </tr></thead><tbody>\n",
       "                <tr>\n",
       "                        <th id=\"T_ab743ef1_f140_11ea_b36a_c0e4341b61delevel0_row0\" class=\"row_heading level0 row0\" >7</th>\n",
       "                        <td id=\"T_ab743ef1_f140_11ea_b36a_c0e4341b61derow0_col0\" class=\"data row0 col0\" >1</td>\n",
       "                        <td id=\"T_ab743ef1_f140_11ea_b36a_c0e4341b61derow0_col1\" class=\"data row0 col1\" >1</td>\n",
       "                        <td id=\"T_ab743ef1_f140_11ea_b36a_c0e4341b61derow0_col2\" class=\"data row0 col2\" >1</td>\n",
       "                        <td id=\"T_ab743ef1_f140_11ea_b36a_c0e4341b61derow0_col3\" class=\"data row0 col3\" >1</td>\n",
       "                        <td id=\"T_ab743ef1_f140_11ea_b36a_c0e4341b61derow0_col4\" class=\"data row0 col4\" >nan</td>\n",
       "            </tr>\n",
       "    </tbody></table>"
      ],
      "text/plain": [
       "<pandas.io.formats.style.Styler at 0x1e708623fa0>"
      ]
     },
     "execution_count": 19,
     "metadata": {},
     "output_type": "execute_result"
    },
    {
     "data": {
      "image/png": "[encoded data removed]",
      "text/plain": [
       "<Figure size 432x288 with 1 Axes>"
      ]
     },
     "metadata": {
      "needs_background": "light"
     },
     "output_type": "display_data"
    }
   ],
   "source": [
    "show_department(103).groupby('dia_semana')['duración'].agg(['sum', 'min', 'mean', 'max', 'std']).style.format(format_dict)"
   ]
  },
  {
   "cell_type": "code",
   "execution_count": null,
   "metadata": {},
   "outputs": [],
   "source": []
  }
 ],
 "metadata": {
  "kernelspec": {
   "display_name": "Python 3",
   "language": "python",
   "name": "python3"
  },
  "language_info": {
   "codemirror_mode": {
    "name": "ipython",
    "version": 3
   },
   "file_extension": ".py",
   "mimetype": "text/x-python",
   "name": "python",
   "nbconvert_exporter": "python",
   "pygments_lexer": "ipython3",
   "version": "3.8.3"
  }
 },
 "nbformat": 4,
 "nbformat_minor": 4
}
