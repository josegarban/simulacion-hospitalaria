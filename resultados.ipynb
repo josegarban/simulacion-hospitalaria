{
 "cells": [
  {
   "cell_type": "code",
   "execution_count": 4,
   "metadata": {},
   "outputs": [],
   "source": [
    "import numpy as np\n",
    "import pandas as pd\n",
    "\n",
    "import main, clean"
   ]
  },
  {
   "cell_type": "markdown",
   "metadata": {},
   "source": [
    "## Resultados de las condiciones base"
   ]
  },
  {
   "cell_type": "code",
   "execution_count": 5,
   "metadata": {},
   "outputs": [
    {
     "name": "stdout",
     "output_type": "stream",
     "text": [
      "\n",
      "Obtained a dataframe with the following fields:\n",
      "\n",
      " LastMilestoneAcheivedColumn     int64\n",
      "Created                        object\n",
      "Removed                        object\n",
      "PID                             int64\n",
      "Unnamed: 4                      int64\n",
      "dtype: object \n",
      "\n",
      "\n",
      "Dataframe description:\n",
      "####################################################################################################\n",
      "     LastMilestoneAcheivedColumn              Created             Removed  PID  \\\n",
      "0                             3   18/08/2020 8:02:56  18/08/2020 8:22:43    1   \n",
      "1                             3   18/08/2020 8:06:56  18/08/2020 9:11:09    2   \n",
      "2                             3   18/08/2020 8:07:00  18/08/2020 8:31:06    3   \n",
      "3                             3   18/08/2020 8:07:55  18/08/2020 9:10:49    4   \n",
      "4                             3   18/08/2020 8:09:05  18/08/2020 8:55:29    5   \n",
      "..                          ...                  ...                 ...  ...   \n",
      "95                            3  18/08/2020 16:50:09  19/08/2020 1:50:52   96   \n",
      "96                            3  18/08/2020 16:53:31  19/08/2020 1:51:16   97   \n",
      "97                            3  18/08/2020 16:55:11  19/08/2020 2:24:14   98   \n",
      "98                            3  18/08/2020 16:56:40  19/08/2020 2:03:57   99   \n",
      "99                            3  18/08/2020 16:59:45  19/08/2020 2:25:13  100   \n",
      "\n",
      "    Unnamed: 4  \n",
      "0            0  \n",
      "1            0  \n",
      "2            0  \n",
      "3            0  \n",
      "4            0  \n",
      "..         ...  \n",
      "95           0  \n",
      "96           0  \n",
      "97           0  \n",
      "98           0  \n",
      "99           0  \n",
      "\n",
      "[100 rows x 5 columns] \n",
      "####################################################################################################\n",
      "\n",
      "\n",
      "Headers:\n",
      "#################################################################################################### \n",
      " ['LastMilestoneAcheivedColumn', 'Created', 'Removed', 'PID', 'Unnamed: 4'] \n",
      "####################################################################################################\n",
      "\n"
     ]
    }
   ],
   "source": [
    "# Importar condiciones base\n",
    "base_conditions = clean.convert(\"EscenarioA.csv\", \",\", True)[0]"
   ]
  },
  {
   "cell_type": "code",
   "execution_count": 6,
   "metadata": {
    "scrolled": true
   },
   "outputs": [
    {
     "name": "stdout",
     "output_type": "stream",
     "text": [
      "    LastMilestoneAcheivedColumn             Created             Removed  PID  \\\n",
      "0                             3 2020-08-18 08:02:56 2020-08-18 08:22:43    1   \n",
      "1                             3 2020-08-18 08:06:56 2020-08-18 09:11:09    2   \n",
      "2                             3 2020-08-18 08:07:00 2020-08-18 08:31:06    3   \n",
      "3                             3 2020-08-18 08:07:55 2020-08-18 09:10:49    4   \n",
      "4                             3 2020-08-18 08:09:05 2020-08-18 08:55:29    5   \n",
      "..                          ...                 ...                 ...  ...   \n",
      "95                            3 2020-08-18 16:50:09 2020-08-19 01:50:52   96   \n",
      "96                            3 2020-08-18 16:53:31 2020-08-19 01:51:16   97   \n",
      "97                            3 2020-08-18 16:55:11 2020-08-19 02:24:14   98   \n",
      "98                            3 2020-08-18 16:56:40 2020-08-19 02:03:57   99   \n",
      "99                            3 2020-08-18 16:59:45 2020-08-19 02:25:13  100   \n",
      "\n",
      "    Unnamed: 4  \n",
      "0            0  \n",
      "1            0  \n",
      "2            0  \n",
      "3            0  \n",
      "4            0  \n",
      "..         ...  \n",
      "95           0  \n",
      "96           0  \n",
      "97           0  \n",
      "98           0  \n",
      "99           0  \n",
      "\n",
      "[100 rows x 5 columns]\n"
     ]
    }
   ],
   "source": [
    "FORMAT = '%d/%m/%Y %H:%M:%S'\n",
    "\n",
    "def clean_results(df, format_=FORMAT, print_intermediate=False):\n",
    "    \"\"\"\n",
    "    Convertir las fechas almacenadas como texto al formato de Python para fechas\n",
    "    \"\"\"\n",
    "\n",
    "    for column in [\"Created\", \"Removed\"]:\n",
    "        dates = pd.to_datetime(df[column], format=format_)\n",
    "        dates = [x.to_pydatetime() for x in dates]\n",
    "        df[column] = dates\n",
    "        \n",
    "    if print_intermediate: print(df)\n",
    "    \n",
    "    return df\n",
    "\n",
    "base_conditions = clean_results(base_conditions, FORMAT, True)"
   ]
  },
  {
   "cell_type": "code",
   "execution_count": 7,
   "metadata": {},
   "outputs": [],
   "source": [
    "COLUMN_NAMES = {\"Created\": {\n",
    "                    \"es\": \"entrada\", \"en\":\"Created\"},\n",
    "                \"Removed\": {\n",
    "                    \"es\": \"salida\", \"en\":\"Removed\"},\n",
    "                \"Duration\": {\n",
    "                    \"es\": \"duracion\", \"en\":\"Duration\"},\n",
    "                \"Hour\": {\n",
    "                    \"es\": \"hora\", \"en\":\"Hour\"},\n",
    "               }\n",
    "\n",
    "def add_info(df, language_to=\"es\", language_from=\"en\", column_names=COLUMN_NAMES, print_intermediate=False):\n",
    "    \"\"\"\n",
    "    Añadir información adicional y cambiar los nombres de las columnas\n",
    "    \"\"\"\n",
    "    \n",
    "    # Calcular duración de estadía\n",
    "    deltas = df[\"Removed\"] - df[\"Created\"]\n",
    "    # Convertir a minutos e insertar en dataframe\n",
    "    df[\"Duration\"] = pd.to_numeric(deltas).div(10**9).div(60)\n",
    "    # Añadir una columna con la hora a la que llegó el paciente\n",
    "    df[\"Hour\"] = [x.hour for x in df[\"Created\"]]\n",
    "    # Cambiar nombres\n",
    "    translations = { column_names[x][language_from]: column_names[x][language_to] for x in column_names.keys()}\n",
    "    df = df.rename(columns=translations)\n",
    "    if print_intermediate: print(df)\n",
    "\n",
    "    return df\n",
    "\n",
    "base_conditions = add_info(base_conditions)"
   ]
  },
  {
   "cell_type": "code",
   "execution_count": 8,
   "metadata": {},
   "outputs": [
    {
     "data": {
      "image/png": "[encoded data removed]",
      "text/plain": [
       "<Figure size 432x288 with 1 Axes>"
      ]
     },
     "metadata": {
      "needs_background": "light"
     },
     "output_type": "display_data"
    }
   ],
   "source": [
    "def chart1(df, column):\n",
    "    title, x_axisname, y_axisname = \"Cantidad de pacientes según hora de llegada\", \"hora\", \"cantidad\"\n",
    "    ax1 = clean.build_count_barchart(df, title, x_axisname, y_axisname, None, False)\n",
    "    clean.customizechart(ax1, title, x_axisname, y_axisname)\n",
    "\n",
    "chart1(base_conditions, 'hora')"
   ]
  },
  {
   "cell_type": "code",
   "execution_count": 9,
   "metadata": {},
   "outputs": [
    {
     "data": {
      "text/html": [
       "<div>\n",
       "<style scoped>\n",
       "    .dataframe tbody tr th:only-of-type {\n",
       "        vertical-align: middle;\n",
       "    }\n",
       "\n",
       "    .dataframe tbody tr th {\n",
       "        vertical-align: top;\n",
       "    }\n",
       "\n",
       "    .dataframe thead th {\n",
       "        text-align: right;\n",
       "    }\n",
       "</style>\n",
       "<table border=\"1\" class=\"dataframe\">\n",
       "  <thead>\n",
       "    <tr style=\"text-align: right;\">\n",
       "      <th></th>\n",
       "      <th>duracion</th>\n",
       "    </tr>\n",
       "  </thead>\n",
       "  <tbody>\n",
       "    <tr>\n",
       "      <th>count</th>\n",
       "      <td>100.0</td>\n",
       "    </tr>\n",
       "    <tr>\n",
       "      <th>mean</th>\n",
       "      <td>328.0</td>\n",
       "    </tr>\n",
       "    <tr>\n",
       "      <th>std</th>\n",
       "      <td>148.3</td>\n",
       "    </tr>\n",
       "    <tr>\n",
       "      <th>min</th>\n",
       "      <td>19.8</td>\n",
       "    </tr>\n",
       "    <tr>\n",
       "      <th>25%</th>\n",
       "      <td>219.2</td>\n",
       "    </tr>\n",
       "    <tr>\n",
       "      <th>50%</th>\n",
       "      <td>340.1</td>\n",
       "    </tr>\n",
       "    <tr>\n",
       "      <th>75%</th>\n",
       "      <td>452.0</td>\n",
       "    </tr>\n",
       "    <tr>\n",
       "      <th>max</th>\n",
       "      <td>583.7</td>\n",
       "    </tr>\n",
       "  </tbody>\n",
       "</table>\n",
       "</div>"
      ],
      "text/plain": [
       "       duracion\n",
       "count     100.0\n",
       "mean      328.0\n",
       "std       148.3\n",
       "min        19.8\n",
       "25%       219.2\n",
       "50%       340.1\n",
       "75%       452.0\n",
       "max       583.7"
      ]
     },
     "execution_count": 9,
     "metadata": {},
     "output_type": "execute_result"
    }
   ],
   "source": [
    "pd.set_option('display.float_format', lambda x: '%.1f' % x)\n",
    "(base_conditions['duracion'].to_frame()).describe()"
   ]
  },
  {
   "cell_type": "code",
   "execution_count": 10,
   "metadata": {},
   "outputs": [
    {
     "data": {
      "text/plain": [
       "Timestamp('2020-08-19 02:25:13')"
      ]
     },
     "execution_count": 10,
     "metadata": {},
     "output_type": "execute_result"
    }
   ],
   "source": [
    "# Hora a la que salió el último paciente\n",
    "base_conditions['salida'].max()"
   ]
  },
  {
   "cell_type": "code",
   "execution_count": 11,
   "metadata": {},
   "outputs": [
    {
     "data": {
      "image/png": "[encoded data removed]",
      "text/plain": [
       "<Figure size 432x288 with 1 Axes>"
      ]
     },
     "metadata": {
      "needs_background": "light"
     },
     "output_type": "display_data"
    }
   ],
   "source": [
    "def chart2(df, column):\n",
    "    \n",
    "    bins=20\n",
    "    data=df[column]\n",
    "    ax = data.hist(bins=bins)\n",
    "    title, xlabel, ylabel = \"Duración de los pacientes en las instalaciones\", \"minutos\", \"pacientes\"\n",
    "    clean.customizechart(ax, title, xlabel, ylabel)    \n",
    "\n",
    "chart2(base_conditions, 'duracion')"
   ]
  },
  {
   "cell_type": "markdown",
   "metadata": {},
   "source": [
    "## Resultados del escenario B"
   ]
  },
  {
   "cell_type": "code",
   "execution_count": 12,
   "metadata": {},
   "outputs": [],
   "source": [
    "scenario_b = clean.convert(\"EscenarioB.csv\", \",\", False)[0]\n",
    "scenario_b = clean_results(scenario_b, FORMAT, False)\n",
    "scenario_b = add_info(scenario_b)"
   ]
  },
  {
   "cell_type": "code",
   "execution_count": 13,
   "metadata": {},
   "outputs": [
    {
     "data": {
      "text/html": [
       "<div>\n",
       "<style scoped>\n",
       "    .dataframe tbody tr th:only-of-type {\n",
       "        vertical-align: middle;\n",
       "    }\n",
       "\n",
       "    .dataframe tbody tr th {\n",
       "        vertical-align: top;\n",
       "    }\n",
       "\n",
       "    .dataframe thead th {\n",
       "        text-align: right;\n",
       "    }\n",
       "</style>\n",
       "<table border=\"1\" class=\"dataframe\">\n",
       "  <thead>\n",
       "    <tr style=\"text-align: right;\">\n",
       "      <th></th>\n",
       "      <th>duracion</th>\n",
       "    </tr>\n",
       "  </thead>\n",
       "  <tbody>\n",
       "    <tr>\n",
       "      <th>count</th>\n",
       "      <td>100.0</td>\n",
       "    </tr>\n",
       "    <tr>\n",
       "      <th>mean</th>\n",
       "      <td>84.6</td>\n",
       "    </tr>\n",
       "    <tr>\n",
       "      <th>std</th>\n",
       "      <td>45.8</td>\n",
       "    </tr>\n",
       "    <tr>\n",
       "      <th>min</th>\n",
       "      <td>6.2</td>\n",
       "    </tr>\n",
       "    <tr>\n",
       "      <th>25%</th>\n",
       "      <td>48.6</td>\n",
       "    </tr>\n",
       "    <tr>\n",
       "      <th>50%</th>\n",
       "      <td>76.3</td>\n",
       "    </tr>\n",
       "    <tr>\n",
       "      <th>75%</th>\n",
       "      <td>114.1</td>\n",
       "    </tr>\n",
       "    <tr>\n",
       "      <th>max</th>\n",
       "      <td>189.2</td>\n",
       "    </tr>\n",
       "  </tbody>\n",
       "</table>\n",
       "</div>"
      ],
      "text/plain": [
       "       duracion\n",
       "count     100.0\n",
       "mean       84.6\n",
       "std        45.8\n",
       "min         6.2\n",
       "25%        48.6\n",
       "50%        76.3\n",
       "75%       114.1\n",
       "max       189.2"
      ]
     },
     "execution_count": 13,
     "metadata": {},
     "output_type": "execute_result"
    }
   ],
   "source": [
    "pd.set_option('display.float_format', lambda x: '%.1f' % x)\n",
    "(scenario_b['duracion'].to_frame()).describe()"
   ]
  },
  {
   "cell_type": "code",
   "execution_count": 14,
   "metadata": {},
   "outputs": [
    {
     "data": {
      "text/plain": [
       "Timestamp('2020-08-18 18:56:51')"
      ]
     },
     "execution_count": 14,
     "metadata": {},
     "output_type": "execute_result"
    }
   ],
   "source": [
    "# Hora a la que salió el último paciente\n",
    "scenario_b['salida'].max()"
   ]
  },
  {
   "cell_type": "code",
   "execution_count": 15,
   "metadata": {},
   "outputs": [
    {
     "data": {
      "image/png": "[encoded data removed]",
      "text/plain": [
       "<Figure size 432x288 with 1 Axes>"
      ]
     },
     "metadata": {
      "needs_background": "light"
     },
     "output_type": "display_data"
    }
   ],
   "source": [
    "chart2(scenario_b, 'duracion')"
   ]
  },
  {
   "cell_type": "markdown",
   "metadata": {},
   "source": [
    "## Resultados del escenario C"
   ]
  },
  {
   "cell_type": "code",
   "execution_count": 16,
   "metadata": {},
   "outputs": [],
   "source": [
    "scenario_c = clean.convert(\"EscenarioC.csv\", \",\", False)[0]\n",
    "scenario_c = clean_results(scenario_c, FORMAT, False)\n",
    "scenario_c = add_info(scenario_c)"
   ]
  },
  {
   "cell_type": "code",
   "execution_count": 17,
   "metadata": {},
   "outputs": [
    {
     "data": {
      "text/html": [
       "<div>\n",
       "<style scoped>\n",
       "    .dataframe tbody tr th:only-of-type {\n",
       "        vertical-align: middle;\n",
       "    }\n",
       "\n",
       "    .dataframe tbody tr th {\n",
       "        vertical-align: top;\n",
       "    }\n",
       "\n",
       "    .dataframe thead th {\n",
       "        text-align: right;\n",
       "    }\n",
       "</style>\n",
       "<table border=\"1\" class=\"dataframe\">\n",
       "  <thead>\n",
       "    <tr style=\"text-align: right;\">\n",
       "      <th></th>\n",
       "      <th>duracion</th>\n",
       "    </tr>\n",
       "  </thead>\n",
       "  <tbody>\n",
       "    <tr>\n",
       "      <th>count</th>\n",
       "      <td>100.0</td>\n",
       "    </tr>\n",
       "    <tr>\n",
       "      <th>mean</th>\n",
       "      <td>64.0</td>\n",
       "    </tr>\n",
       "    <tr>\n",
       "      <th>std</th>\n",
       "      <td>31.0</td>\n",
       "    </tr>\n",
       "    <tr>\n",
       "      <th>min</th>\n",
       "      <td>6.2</td>\n",
       "    </tr>\n",
       "    <tr>\n",
       "      <th>25%</th>\n",
       "      <td>41.4</td>\n",
       "    </tr>\n",
       "    <tr>\n",
       "      <th>50%</th>\n",
       "      <td>60.1</td>\n",
       "    </tr>\n",
       "    <tr>\n",
       "      <th>75%</th>\n",
       "      <td>84.8</td>\n",
       "    </tr>\n",
       "    <tr>\n",
       "      <th>max</th>\n",
       "      <td>161.9</td>\n",
       "    </tr>\n",
       "  </tbody>\n",
       "</table>\n",
       "</div>"
      ],
      "text/plain": [
       "       duracion\n",
       "count     100.0\n",
       "mean       64.0\n",
       "std        31.0\n",
       "min         6.2\n",
       "25%        41.4\n",
       "50%        60.1\n",
       "75%        84.8\n",
       "max       161.9"
      ]
     },
     "execution_count": 17,
     "metadata": {},
     "output_type": "execute_result"
    }
   ],
   "source": [
    "pd.set_option('display.float_format', lambda x: '%.1f' % x)\n",
    "(scenario_c['duracion'].to_frame()).describe()"
   ]
  },
  {
   "cell_type": "code",
   "execution_count": 18,
   "metadata": {},
   "outputs": [
    {
     "data": {
      "text/plain": [
       "Timestamp('2020-08-18 18:24:51')"
      ]
     },
     "execution_count": 18,
     "metadata": {},
     "output_type": "execute_result"
    }
   ],
   "source": [
    "# Hora a la que salió el último paciente\n",
    "scenario_c['salida'].max()"
   ]
  },
  {
   "cell_type": "code",
   "execution_count": 19,
   "metadata": {},
   "outputs": [
    {
     "data": {
      "image/png": "[encoded data removed]",
      "text/plain": [
       "<Figure size 432x288 with 1 Axes>"
      ]
     },
     "metadata": {
      "needs_background": "light"
     },
     "output_type": "display_data"
    }
   ],
   "source": [
    "chart2(scenario_c, 'duracion')"
   ]
  },
  {
   "cell_type": "code",
   "execution_count": null,
   "metadata": {},
   "outputs": [],
   "source": []
  }
 ],
 "metadata": {
  "kernelspec": {
   "display_name": "Python 3",
   "language": "python",
   "name": "python3"
  },
  "language_info": {
   "codemirror_mode": {
    "name": "ipython",
    "version": 3
   },
   "file_extension": ".py",
   "mimetype": "text/x-python",
   "name": "python",
   "nbconvert_exporter": "python",
   "pygments_lexer": "ipython3",
   "version": "3.8.3"
  }
 },
 "nbformat": 4,
 "nbformat_minor": 4
}
