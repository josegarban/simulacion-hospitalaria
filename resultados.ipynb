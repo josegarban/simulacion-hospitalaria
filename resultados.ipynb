{
 "cells": [
  {
   "cell_type": "code",
   "execution_count": 4,
   "metadata": {},
   "outputs": [],
   "source": [
    "import numpy as np\n",
    "import pandas as pd\n",
    "\n",
    "import main, clean"
   ]
  },
  {
   "cell_type": "markdown",
   "metadata": {},
   "source": [
    "## Resultados de las condiciones base"
   ]
  },
  {
   "cell_type": "code",
   "execution_count": 5,
   "metadata": {},
   "outputs": [
    {
     "name": "stdout",
     "output_type": "stream",
     "text": [
      "\n",
      "Obtained a dataframe with the following fields:\n",
      "\n",
      " LastMilestoneAcheivedColumn     int64\n",
      "Created                        object\n",
      "Removed                        object\n",
      "PID                             int64\n",
      "Unnamed: 4                      int64\n",
      "dtype: object \n",
      "\n",
      "\n",
      "Dataframe description:\n",
      "####################################################################################################\n",
      "     LastMilestoneAcheivedColumn              Created             Removed  PID  \\\n",
      "0                             3   18/08/2020 8:02:56  18/08/2020 8:22:43    1   \n",
      "1                             3   18/08/2020 8:06:56  18/08/2020 9:11:09    2   \n",
      "2                             3   18/08/2020 8:07:00  18/08/2020 8:31:06    3   \n",
      "3                             3   18/08/2020 8:07:55  18/08/2020 9:10:49    4   \n",
      "4                             3   18/08/2020 8:09:05  18/08/2020 8:55:29    5   \n",
      "..                          ...                  ...                 ...  ...   \n",
      "95                            3  18/08/2020 16:50:09  19/08/2020 1:50:52   96   \n",
      "96                            3  18/08/2020 16:53:31  19/08/2020 1:51:16   97   \n",
      "97                            3  18/08/2020 16:55:11  19/08/2020 2:24:14   98   \n",
      "98                            3  18/08/2020 16:56:40  19/08/2020 2:03:57   99   \n",
      "99                            3  18/08/2020 16:59:45  19/08/2020 2:25:13  100   \n",
      "\n",
      "    Unnamed: 4  \n",
      "0            0  \n",
      "1            0  \n",
      "2            0  \n",
      "3            0  \n",
      "4            0  \n",
      "..         ...  \n",
      "95           0  \n",
      "96           0  \n",
      "97           0  \n",
      "98           0  \n",
      "99           0  \n",
      "\n",
      "[100 rows x 5 columns] \n",
      "####################################################################################################\n",
      "\n",
      "\n",
      "Headers:\n",
      "#################################################################################################### \n",
      " ['LastMilestoneAcheivedColumn', 'Created', 'Removed', 'PID', 'Unnamed: 4'] \n",
      "####################################################################################################\n",
      "\n"
     ]
    }
   ],
   "source": [
    "# Importar condiciones base\n",
    "base_conditions = clean.convert(\"EscenarioA.csv\", \",\", True)[0]"
   ]
  },
  {
   "cell_type": "code",
   "execution_count": 6,
   "metadata": {
    "scrolled": true
   },
   "outputs": [
    {
     "name": "stdout",
     "output_type": "stream",
     "text": [
      "    LastMilestoneAcheivedColumn             Created             Removed  PID  \\\n",
      "0                             3 2020-08-18 08:02:56 2020-08-18 08:22:43    1   \n",
      "1                             3 2020-08-18 08:06:56 2020-08-18 09:11:09    2   \n",
      "2                             3 2020-08-18 08:07:00 2020-08-18 08:31:06    3   \n",
      "3                             3 2020-08-18 08:07:55 2020-08-18 09:10:49    4   \n",
      "4                             3 2020-08-18 08:09:05 2020-08-18 08:55:29    5   \n",
      "..                          ...                 ...                 ...  ...   \n",
      "95                            3 2020-08-18 16:50:09 2020-08-19 01:50:52   96   \n",
      "96                            3 2020-08-18 16:53:31 2020-08-19 01:51:16   97   \n",
      "97                            3 2020-08-18 16:55:11 2020-08-19 02:24:14   98   \n",
      "98                            3 2020-08-18 16:56:40 2020-08-19 02:03:57   99   \n",
      "99                            3 2020-08-18 16:59:45 2020-08-19 02:25:13  100   \n",
      "\n",
      "    Unnamed: 4  \n",
      "0            0  \n",
      "1            0  \n",
      "2            0  \n",
      "3            0  \n",
      "4            0  \n",
      "..         ...  \n",
      "95           0  \n",
      "96           0  \n",
      "97           0  \n",
      "98           0  \n",
      "99           0  \n",
      "\n",
      "[100 rows x 5 columns]\n"
     ]
    }
   ],
   "source": [
    "FORMAT = '%d/%m/%Y %H:%M:%S'\n",
    "\n",
    "def clean_results(df, format_=FORMAT, print_intermediate=False):\n",
    "    \"\"\"\n",
    "    Convertir las fechas almacenadas como texto al formato de Python para fechas\n",
    "    \"\"\"\n",
    "\n",
    "    for column in [\"Created\", \"Removed\"]:\n",
    "        dates = pd.to_datetime(df[column], format=format_)\n",
    "        dates = [x.to_pydatetime() for x in dates]\n",
    "        df[column] = dates\n",
    "        \n",
    "    if print_intermediate: print(df)\n",
    "    \n",
    "    return df\n",
    "\n",
    "base_conditions = clean_results(base_conditions, FORMAT, True)"
   ]
  },
  {
   "cell_type": "code",
   "execution_count": 7,
   "metadata": {},
   "outputs": [],
   "source": [
    "COLUMN_NAMES = {\"Created\": {\n",
    "                    \"es\": \"entrada\", \"en\":\"Created\"},\n",
    "                \"Removed\": {\n",
    "                    \"es\": \"salida\", \"en\":\"Removed\"},\n",
    "                \"Duration\": {\n",
    "                    \"es\": \"duracion\", \"en\":\"Duration\"},\n",
    "                \"Hour\": {\n",
    "                    \"es\": \"hora\", \"en\":\"Hour\"},\n",
    "               }\n",
    "\n",
    "def add_info(df, language_to=\"es\", language_from=\"en\", column_names=COLUMN_NAMES, print_intermediate=False):\n",
    "    \"\"\"\n",
    "    Añadir información adicional y cambiar los nombres de las columnas\n",
    "    \"\"\"\n",
    "    \n",
    "    # Calcular duración de estadía\n",
    "    deltas = df[\"Removed\"] - df[\"Created\"]\n",
    "    # Convertir a minutos e insertar en dataframe\n",
    "    df[\"Duration\"] = pd.to_numeric(deltas).div(10**9).div(60)\n",
    "    # Añadir una columna con la hora a la que llegó el paciente\n",
    "    df[\"Hour\"] = [x.hour for x in df[\"Created\"]]\n",
    "    # Cambiar nombres\n",
    "    translations = { column_names[x][language_from]: column_names[x][language_to] for x in column_names.keys()}\n",
    "    df = df.rename(columns=translations)\n",
    "    if print_intermediate: print(df)\n",
    "\n",
    "    return df\n",
    "\n",
    "base_conditions = add_info(base_conditions)"
   ]
  },
  {
   "cell_type": "code",
   "execution_count": 8,
   "metadata": {},
   "outputs": [
    {
     "data": {
      "image/png": "[encoded data removed]",
      "text/plain": [
       "<Figure size 432x288 with 1 Axes>"
      ]
     },
     "metadata": {
      "needs_background": "light"
     },
     "output_type": "display_data"
    }
   ],
   "source": [
    "def chart1(df, column):\n",
    "    title, x_axisname, y_axisname = \"Cantidad de pacientes según hora de llegada\", \"hora\", \"cantidad\"\n",
    "    ax1 = clean.build_count_barchart(df, title, x_axisname, y_axisname, None, False)\n",
    "    clean.customizechart(ax1, title, x_axisname, y_axisname)\n",
    "\n",
    "chart1(base_conditions, 'hora')"
   ]
  },
  {
   "cell_type": "code",
   "execution_count": 9,
   "metadata": {},
   "outputs": [
    {
     "data": {
      "text/html": [
       "<div>\n",
       "<style scoped>\n",
       "    .dataframe tbody tr th:only-of-type {\n",
       "        vertical-align: middle;\n",
       "    }\n",
       "\n",
       "    .dataframe tbody tr th {\n",
       "        vertical-align: top;\n",
       "    }\n",
       "\n",
       "    .dataframe thead th {\n",
       "        text-align: right;\n",
       "    }\n",
       "</style>\n",
       "<table border=\"1\" class=\"dataframe\">\n",
       "  <thead>\n",
       "    <tr style=\"text-align: right;\">\n",
       "      <th></th>\n",
       "      <th>duracion</th>\n",
       "    </tr>\n",
       "  </thead>\n",
       "  <tbody>\n",
       "    <tr>\n",
       "      <th>count</th>\n",
       "      <td>100.0</td>\n",
       "    </tr>\n",
       "    <tr>\n",
       "      <th>mean</th>\n",
       "      <td>328.0</td>\n",
       "    </tr>\n",
       "    <tr>\n",
       "      <th>std</th>\n",
       "      <td>148.3</td>\n",
       "    </tr>\n",
       "    <tr>\n",
       "      <th>min</th>\n",
       "      <td>19.8</td>\n",
       "    </tr>\n",
       "    <tr>\n",
       "      <th>25%</th>\n",
       "      <td>219.2</td>\n",
       "    </tr>\n",
       "    <tr>\n",
       "      <th>50%</th>\n",
       "      <td>340.1</td>\n",
       "    </tr>\n",
       "    <tr>\n",
       "      <th>75%</th>\n",
       "      <td>452.0</td>\n",
       "    </tr>\n",
       "    <tr>\n",
       "      <th>max</th>\n",
       "      <td>583.7</td>\n",
       "    </tr>\n",
       "  </tbody>\n",
       "</table>\n",
       "</div>"
      ],
      "text/plain": [
       "       duracion\n",
       "count     100.0\n",
       "mean      328.0\n",
       "std       148.3\n",
       "min        19.8\n",
       "25%       219.2\n",
       "50%       340.1\n",
       "75%       452.0\n",
       "max       583.7"
      ]
     },
     "execution_count": 9,
     "metadata": {},
     "output_type": "execute_result"
    }
   ],
   "source": [
    "pd.set_option('display.float_format', lambda x: '%.1f' % x)\n",
    "(base_conditions['duracion'].to_frame()).describe()"
   ]
  },
  {
   "cell_type": "code",
   "execution_count": 10,
   "metadata": {},
   "outputs": [
    {
     "data": {
      "text/plain": [
       "Timestamp('2020-08-19 02:25:13')"
      ]
     },
     "execution_count": 10,
     "metadata": {},
     "output_type": "execute_result"
    }
   ],
   "source": [
    "# Hora a la que salió el último paciente\n",
    "base_conditions['salida'].max()"
   ]
  },
  {
   "cell_type": "code",
   "execution_count": 11,
   "metadata": {},
   "outputs": [
    {
     "data": {
      "image/png": "[encoded data removed]",
      "text/plain": [
       "<Figure size 432x288 with 1 Axes>"
      ]
     },
     "metadata": {
      "needs_background": "light"
     },
     "output_type": "display_data"
    }
   ],
   "source": [
    "def chart2(df, column):\n",
    "    \n",
    "    bins=20\n",
    "    data=df[column]\n",
    "    ax = data.hist(bins=bins)\n",
    "    title, xlabel, ylabel = \"Duración de los pacientes en las instalaciones\", \"minutos\", \"pacientes\"\n",
    "    clean.customizechart(ax, title, xlabel, ylabel)    \n",
    "\n",
    "chart2(base_conditions, 'duracion')"
   ]
  },
  {
   "cell_type": "markdown",
   "metadata": {},
   "source": [
    "## Resultados del escenario B"
   ]
  },
  {
   "cell_type": "code",
   "execution_count": 12,
   "metadata": {},
   "outputs": [],
   "source": [
    "scenario_b = clean.convert(\"EscenarioB.csv\", \",\", False)[0]\n",
    "scenario_b = clean_results(scenario_b, FORMAT, False)\n",
    "scenario_b = add_info(scenario_b)"
   ]
  },
  {
   "cell_type": "code",
   "execution_count": 13,
   "metadata": {},
   "outputs": [
    {
     "data": {
      "text/html": [
       "<div>\n",
       "<style scoped>\n",
       "    .dataframe tbody tr th:only-of-type {\n",
       "        vertical-align: middle;\n",
       "    }\n",
       "\n",
       "    .dataframe tbody tr th {\n",
       "        vertical-align: top;\n",
       "    }\n",
       "\n",
       "    .dataframe thead th {\n",
       "        text-align: right;\n",
       "    }\n",
       "</style>\n",
       "<table border=\"1\" class=\"dataframe\">\n",
       "  <thead>\n",
       "    <tr style=\"text-align: right;\">\n",
       "      <th></th>\n",
       "      <th>duracion</th>\n",
       "    </tr>\n",
       "  </thead>\n",
       "  <tbody>\n",
       "    <tr>\n",
       "      <th>count</th>\n",
       "      <td>100.0</td>\n",
       "    </tr>\n",
       "    <tr>\n",
       "      <th>mean</th>\n",
       "      <td>84.6</td>\n",
       "    </tr>\n",
       "    <tr>\n",
       "      <th>std</th>\n",
       "      <td>45.8</td>\n",
       "    </tr>\n",
       "    <tr>\n",
       "      <th>min</th>\n",
       "      <td>6.2</td>\n",
       "    </tr>\n",
       "    <tr>\n",
       "      <th>25%</th>\n",
       "      <td>48.6</td>\n",
       "    </tr>\n",
       "    <tr>\n",
       "      <th>50%</th>\n",
       "      <td>76.3</td>\n",
       "    </tr>\n",
       "    <tr>\n",
       "      <th>75%</th>\n",
       "      <td>114.1</td>\n",
       "    </tr>\n",
       "    <tr>\n",
       "      <th>max</th>\n",
       "      <td>189.2</td>\n",
       "    </tr>\n",
       "  </tbody>\n",
       "</table>\n",
       "</div>"
      ],
      "text/plain": [
       "       duracion\n",
       "count     100.0\n",
       "mean       84.6\n",
       "std        45.8\n",
       "min         6.2\n",
       "25%        48.6\n",
       "50%        76.3\n",
       "75%       114.1\n",
       "max       189.2"
      ]
     },
     "execution_count": 13,
     "metadata": {},
     "output_type": "execute_result"
    }
   ],
   "source": [
    "pd.set_option('display.float_format', lambda x: '%.1f' % x)\n",
    "(scenario_b['duracion'].to_frame()).describe()"
   ]
  },
  {
   "cell_type": "code",
   "execution_count": 14,
   "metadata": {},
   "outputs": [
    {
     "data": {
      "text/plain": [
       "Timestamp('2020-08-18 18:56:51')"
      ]
     },
     "execution_count": 14,
     "metadata": {},
     "output_type": "execute_result"
    }
   ],
   "source": [
    "# Hora a la que salió el último paciente\n",
    "scenario_b['salida'].max()"
   ]
  },
  {
   "cell_type": "code",
   "execution_count": 15,
   "metadata": {},
   "outputs": [
    {
     "data": {
      "image/png": "[encoded data removed]",
      "text/plain": [
       "<Figure size 432x288 with 1 Axes>"
      ]
     },
     "metadata": {
      "needs_background": "light"
     },
     "output_type": "display_data"
    }
   ],
   "source": [
    "chart2(scenario_b, 'duracion')"
   ]
  },
  {
   "cell_type": "markdown",
   "metadata": {},
   "source": [
    "## Resultados del escenario C"
   ]
  },
  {
   "cell_type": "code",
   "execution_count": 16,
   "metadata": {},
   "outputs": [],
   "source": [
    "scenario_c = clean.convert(\"EscenarioC.csv\", \",\", False)[0]\n",
    "scenario_c = clean_results(scenario_c, FORMAT, False)\n",
    "scenario_c = add_info(scenario_c)"
   ]
  },
  {
   "cell_type": "code",
   "execution_count": 17,
   "metadata": {},
   "outputs": [
    {
     "data": {
      "text/html": [
       "<div>\n",
       "<style scoped>\n",
       "    .dataframe tbody tr th:only-of-type {\n",
       "        vertical-align: middle;\n",
       "    }\n",
       "\n",
       "    .dataframe tbody tr th {\n",
       "        vertical-align: top;\n",
       "    }\n",
       "\n",
       "    .dataframe thead th {\n",
       "        text-align: right;\n",
       "    }\n",
       "</style>\n",
       "<table border=\"1\" class=\"dataframe\">\n",
       "  <thead>\n",
       "    <tr style=\"text-align: right;\">\n",
       "      <th></th>\n",
       "      <th>duracion</th>\n",
       "    </tr>\n",
       "  </thead>\n",
       "  <tbody>\n",
       "    <tr>\n",
       "      <th>count</th>\n",
       "      <td>100.0</td>\n",
       "    </tr>\n",
       "    <tr>\n",
       "      <th>mean</th>\n",
       "      <td>64.0</td>\n",
       "    </tr>\n",
       "    <tr>\n",
       "      <th>std</th>\n",
       "      <td>31.0</td>\n",
       "    </tr>\n",
       "    <tr>\n",
       "      <th>min</th>\n",
       "      <td>6.2</td>\n",
       "    </tr>\n",
       "    <tr>\n",
       "      <th>25%</th>\n",
       "      <td>41.4</td>\n",
       "    </tr>\n",
       "    <tr>\n",
       "      <th>50%</th>\n",
       "      <td>60.1</td>\n",
       "    </tr>\n",
       "    <tr>\n",
       "      <th>75%</th>\n",
       "      <td>84.8</td>\n",
       "    </tr>\n",
       "    <tr>\n",
       "      <th>max</th>\n",
       "      <td>161.9</td>\n",
       "    </tr>\n",
       "  </tbody>\n",
       "</table>\n",
       "</div>"
      ],
      "text/plain": [
       "       duracion\n",
       "count     100.0\n",
       "mean       64.0\n",
       "std        31.0\n",
       "min         6.2\n",
       "25%        41.4\n",
       "50%        60.1\n",
       "75%        84.8\n",
       "max       161.9"
      ]
     },
     "execution_count": 17,
     "metadata": {},
     "output_type": "execute_result"
    }
   ],
   "source": [
    "pd.set_option('display.float_format', lambda x: '%.1f' % x)\n",
    "(scenario_c['duracion'].to_frame()).describe()"
   ]
  },
  {
   "cell_type": "code",
   "execution_count": 18,
   "metadata": {},
   "outputs": [
    {
     "data": {
      "text/plain": [
       "Timestamp('2020-08-18 18:24:51')"
      ]
     },
     "execution_count": 18,
     "metadata": {},
     "output_type": "execute_result"
    }
   ],
   "source": [
    "# Hora a la que salió el último paciente\n",
    "scenario_c['salida'].max()"
   ]
  },
  {
   "cell_type": "code",
   "execution_count": 19,
   "metadata": {},
   "outputs": [
    {
     "data": {
      "image/png": "[encoded data removed]",
      "text/plain": [
       "<Figure size 432x288 with 1 Axes>"
      ]
     },
     "metadata": {
      "needs_background": "light"
     },
     "output_type": "display_data"
    }
   ],
   "source": [
    "chart2(scenario_c, 'duracion')"
   ]
  },
  {
   "cell_type": "markdown",
   "metadata": {},
   "source": [
    "## Caracterización estadística del escenario C\n",
    "[https://pythonhealthcare.org/2018/05/03/81-distribution-fitting-to-data/][1]\n",
    "\n",
    "[1]: https://pythonhealthcare.org/2018/05/03/81-distribution-fitting-to-data/"
   ]
  },
  {
   "cell_type": "code",
   "execution_count": 20,
   "metadata": {},
   "outputs": [],
   "source": [
    "import scipy\n",
    "from sklearn.preprocessing import StandardScaler\n",
    "import scipy.stats\n",
    "import matplotlib.pyplot as plt\n",
    "%matplotlib inline\n",
    "# Load data and select first column\n",
    "\n",
    "from sklearn import datasets\n",
    "y = [scenario_c.duracion[x] for x in list(range(len(scenario_c['duracion'])))] \n",
    "y = np.array(y)\n",
    "y = y[~np.isnan(y)]\n",
    "\n",
    "# Create an index array (x) for data\n",
    "x = np.arange(len(y))\n",
    "size = len(y)"
   ]
  },
  {
   "cell_type": "code",
   "execution_count": 21,
   "metadata": {},
   "outputs": [],
   "source": [
    "sc=StandardScaler() \n",
    "yy = y.reshape (-1,1)\n",
    "sc.fit(yy)\n",
    "y_std =sc.transform(yy)\n",
    "y_std = y_std.flatten()\n",
    "y_std\n",
    "del yy"
   ]
  },
  {
   "cell_type": "code",
   "execution_count": 22,
   "metadata": {},
   "outputs": [
    {
     "name": "stdout",
     "output_type": "stream",
     "text": [
      "\n",
      "Distributions sorted by goodness of fit:\n",
      "----------------------------------------\n",
      "  Distribution  chi_square  p_value\n",
      "1        gamma         6.0      0.9\n",
      "0         beta         6.3      0.9\n",
      "2         norm        39.7      0.2\n"
     ]
    }
   ],
   "source": [
    "# Set list of distributions to test\n",
    "# See https://docs.scipy.org/doc/scipy/reference/stats.html for more\n",
    "\n",
    "# Turn off code warnings (this is not recommended for routine use)\n",
    "import warnings\n",
    "warnings.filterwarnings(\"ignore\")\n",
    "\n",
    "# Set up list of candidate distributions to use\n",
    "# See https://docs.scipy.org/doc/scipy/reference/stats.html for more\n",
    "\n",
    "dist_names = ['beta',\n",
    "#               'expon',\n",
    "              'gamma',\n",
    "#               'lognorm',\n",
    "              'norm',\n",
    "#               'pearson3',\n",
    "#               'triang',\n",
    "#               'uniform',\n",
    "#               'weibull_min', \n",
    "#               'weibull_max'\n",
    "             ]\n",
    "\n",
    "# Set up empty lists to stroe results\n",
    "chi_square = []\n",
    "p_values = []\n",
    "\n",
    "# Set up 50 bins for chi-square test\n",
    "# Observed data will be approximately evenly distrubuted aross all bins\n",
    "percentile_bins = np.linspace(0,100,51)\n",
    "percentile_cutoffs = np.percentile(y_std, percentile_bins)\n",
    "observed_frequency, bins = (np.histogram(y_std, bins=percentile_cutoffs))\n",
    "cum_observed_frequency = np.cumsum(observed_frequency)\n",
    "\n",
    "# Loop through candidate distributions\n",
    "\n",
    "for distribution in dist_names:\n",
    "    # Set up distribution and get fitted distribution parameters\n",
    "    dist = getattr(scipy.stats, distribution)\n",
    "    param = dist.fit(y_std)\n",
    "    \n",
    "    # Obtain the KS test P statistic, round it to 5 decimal places\n",
    "    p = scipy.stats.kstest(y_std, distribution, args=param)[1]\n",
    "    p = np.around(p, 5)\n",
    "    p_values.append(p)    \n",
    "    \n",
    "    # Get expected counts in percentile bins\n",
    "    # This is based on a 'cumulative distrubution function' (cdf)\n",
    "    cdf_fitted = dist.cdf(percentile_cutoffs, *param[:-2], loc=param[-2], \n",
    "                          scale=param[-1])\n",
    "    expected_frequency = []\n",
    "    for bin in range(len(percentile_bins)-1):\n",
    "        expected_cdf_area = cdf_fitted[bin+1] - cdf_fitted[bin]\n",
    "        expected_frequency.append(expected_cdf_area)\n",
    "    \n",
    "    # calculate chi-squared\n",
    "    expected_frequency = np.array(expected_frequency) * size\n",
    "    cum_expected_frequency = np.cumsum(expected_frequency)\n",
    "    ss = sum (((cum_expected_frequency - cum_observed_frequency) ** 2) / cum_observed_frequency)\n",
    "    chi_square.append(ss)\n",
    "        \n",
    "# Collate results and sort by goodness of fit (best at top)\n",
    "\n",
    "results = pd.DataFrame()\n",
    "results['Distribution'] = dist_names\n",
    "results['chi_square'] = chi_square\n",
    "results['p_value'] = p_values\n",
    "results.sort_values(['chi_square'], inplace=True)\n",
    "    \n",
    "# Report results\n",
    "\n",
    "print ('\\nDistributions sorted by goodness of fit:')\n",
    "print ('----------------------------------------')\n",
    "print (results)"
   ]
  },
  {
   "cell_type": "code",
   "execution_count": 23,
   "metadata": {},
   "outputs": [
    {
     "name": "stdout",
     "output_type": "stream",
     "text": [
      "[(5.458680083761448, -8.55298346464852, 13.289624018741002)]\n",
      "[(5.458680083761448, -8.55298346464852, 13.289624018741002), (4.140567906494785, 30.405423324372435, -3.888865826737657, 566.3519677081354)]\n",
      "[(5.458680083761448, -8.55298346464852, 13.289624018741002), (4.140567906494785, 30.405423324372435, -3.888865826737657, 566.3519677081354), (63.99083333333332, 30.883121997388077)]\n"
     ]
    },
    {
     "data": {
      "image/png": "[encoded data removed]",
      "text/plain": [
       "<Figure size 432x288 with 1 Axes>"
      ]
     },
     "metadata": {
      "needs_background": "light"
     },
     "output_type": "display_data"
    },
    {
     "name": "stdout",
     "output_type": "stream",
     "text": [
      "\n",
      "Distribution parameters:\n",
      "------------------------\n",
      "\n",
      "Distribution: gamma\n",
      "Parameters: (5.458680083761448, -8.55298346464852, 13.289624018741002)\n",
      "\n",
      "Distribution: beta\n",
      "Parameters: (4.140567906494785, 30.405423324372435, -3.888865826737657, 566.3519677081354)\n",
      "\n",
      "Distribution: norm\n",
      "Parameters: (63.99083333333332, 30.883121997388077)\n"
     ]
    }
   ],
   "source": [
    "# Divide the observed data into 100 bins for plotting (this can be changed)\n",
    "number_of_bins = 10\n",
    "bin_cutoffs = np.linspace(np.percentile(y,0), np.percentile(y,99),number_of_bins)\n",
    "\n",
    "# Create the plot\n",
    "h = plt.hist(y, bins = bin_cutoffs, color='0.75')\n",
    "\n",
    "# Get the top three distributions from the previous phase\n",
    "number_distributions_to_plot = 3\n",
    "dist_names = results['Distribution'].iloc[0:number_distributions_to_plot]\n",
    "\n",
    "# Create an empty list to stroe fitted distribution parameters\n",
    "parameters = []\n",
    "\n",
    "# Loop through the distributions ot get line fit and paraemters\n",
    "\n",
    "for dist_name in dist_names:\n",
    "    # Set up distribution and store distribution paraemters\n",
    "    dist = getattr(scipy.stats, dist_name)\n",
    "    param = dist.fit(y)\n",
    "    parameters.append(param)\n",
    "    print(parameters)\n",
    "    \n",
    "    # Get line for each distribution (and scale to match observed data)\n",
    "    pdf_fitted = dist.pdf(x, *param[:-2], loc=param[-2], scale=param[-1])\n",
    "    scale_pdf = np.trapz (h[0], h[1][:-1]) / np.trapz (pdf_fitted, x)\n",
    "    pdf_fitted *= scale_pdf\n",
    "    \n",
    "    # Add the line to the plot\n",
    "    plt.plot(pdf_fitted, label=dist_name)\n",
    "    \n",
    "    # Set the plot x axis to contain 99% of the data\n",
    "    # This can be removed, but sometimes outlier data makes the plot less clear\n",
    "    plt.xlim(0,np.percentile(y,99))\n",
    "\n",
    "# Add legend and display plot\n",
    "\n",
    "plt.legend()\n",
    "plt.show()\n",
    "\n",
    "# Store distribution paraemters in a dataframe (this could also be saved)\n",
    "dist_parameters = pd.DataFrame()\n",
    "dist_parameters['Distribution'] = (\n",
    "        results['Distribution'].iloc[0:number_distributions_to_plot])\n",
    "dist_parameters['Distribution parameters'] = parameters\n",
    "\n",
    "# Print parameter results\n",
    "print ('\\nDistribution parameters:')\n",
    "print ('------------------------')\n",
    "\n",
    "for index, row in dist_parameters.iterrows():\n",
    "    print ('\\nDistribution:', row[0])\n",
    "    print ('Parameters:', row[1] )"
   ]
  },
  {
   "cell_type": "code",
   "execution_count": 24,
   "metadata": {},
   "outputs": [
    {
     "data": {
      "image/png": "[encoded data removed]",
      "text/plain": [
       "<Figure size 576x360 with 2 Axes>"
      ]
     },
     "metadata": {
      "needs_background": "light"
     },
     "output_type": "display_data"
    },
    {
     "data": {
      "image/png": "[encoded data removed]",
      "text/plain": [
       "<Figure size 576x360 with 2 Axes>"
      ]
     },
     "metadata": {
      "needs_background": "light"
     },
     "output_type": "display_data"
    },
    {
     "data": {
      "image/png": "[encoded data removed]",
      "text/plain": [
       "<Figure size 576x360 with 2 Axes>"
      ]
     },
     "metadata": {
      "needs_background": "light"
     },
     "output_type": "display_data"
    }
   ],
   "source": [
    "# qq and pp plots\n",
    "    \n",
    "data = y_std.copy()\n",
    "data.sort()\n",
    "\n",
    "# Loop through selected distributions (as previously selected)\n",
    "\n",
    "for distribution in dist_names:\n",
    "    # Set up distribution\n",
    "    dist = getattr(scipy.stats, distribution)\n",
    "    param = dist.fit(y_std)\n",
    "    \n",
    "    # Get random numbers from distribution\n",
    "    norm = dist.rvs(*param[0:-2],loc=param[-2], scale=param[-1],size = size)\n",
    "    norm.sort()\n",
    "    \n",
    "    # Create figure\n",
    "    fig = plt.figure(figsize=(8,5)) \n",
    "    \n",
    "    # qq plot\n",
    "    ax1 = fig.add_subplot(121) # Grid of 2x2, this is suplot 1\n",
    "    ax1.plot(norm,data,\"o\")\n",
    "    min_value = np.floor(min(min(norm),min(data)))\n",
    "    max_value = np.ceil(max(max(norm),max(data)))\n",
    "    ax1.plot([min_value,max_value],[min_value,max_value],'r--')\n",
    "    ax1.set_xlim(min_value,max_value)\n",
    "    ax1.set_xlabel('Theoretical quantiles')\n",
    "    ax1.set_ylabel('Observed quantiles')\n",
    "    title = 'qq plot for ' + distribution +' distribution'\n",
    "    ax1.set_title(title)\n",
    "    \n",
    "    # pp plot\n",
    "    ax2 = fig.add_subplot(122)\n",
    "    \n",
    "    # Calculate cumulative distributions\n",
    "    bins = np.percentile(norm,range(0,101))\n",
    "    data_counts, bins = np.histogram(data,bins)\n",
    "    norm_counts, bins = np.histogram(norm,bins)\n",
    "    cum_data = np.cumsum(data_counts)\n",
    "    cum_norm = np.cumsum(norm_counts)\n",
    "    cum_data = cum_data / max(cum_data)\n",
    "    cum_norm = cum_norm / max(cum_norm)\n",
    "    \n",
    "    # plot\n",
    "    ax2.plot(cum_norm,cum_data,\"o\")\n",
    "    min_value = np.floor(min(min(cum_norm),min(cum_data)))\n",
    "    max_value = np.ceil(max(max(cum_norm),max(cum_data)))\n",
    "    ax2.plot([min_value,max_value],[min_value,max_value],'r--')\n",
    "    ax2.set_xlim(min_value,max_value)\n",
    "    ax2.set_xlabel('Theoretical cumulative distribution')\n",
    "    ax2.set_ylabel('Observed cumulative distribution')\n",
    "    title = 'pp plot for ' + distribution +' distribution'\n",
    "    ax2.set_title(title)\n",
    "    \n",
    "    # Display plot    \n",
    "    plt.tight_layout(pad=4)\n",
    "    plt.show()"
   ]
  },
  {
   "cell_type": "code",
   "execution_count": null,
   "metadata": {},
   "outputs": [],
   "source": []
  },
  {
   "cell_type": "code",
   "execution_count": null,
   "metadata": {},
   "outputs": [],
   "source": []
  }
 ],
 "metadata": {
  "kernelspec": {
   "display_name": "Python 3",
   "language": "python",
   "name": "python3"
  },
  "language_info": {
   "codemirror_mode": {
    "name": "ipython",
    "version": 3
   },
   "file_extension": ".py",
   "mimetype": "text/x-python",
   "name": "python",
   "nbconvert_exporter": "python",
   "pygments_lexer": "ipython3",
   "version": "3.8.3"
  }
 },
 "nbformat": 4,
 "nbformat_minor": 4
}
